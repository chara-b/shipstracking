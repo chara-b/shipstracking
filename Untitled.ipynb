{
 "cells": [
  {
   "cell_type": "code",
   "execution_count": 92,
   "metadata": {
    "collapsed": false
   },
   "outputs": [],
   "source": [
    "import matplotlib.pyplot as plt\n",
    "from sklearn import preprocessing\n",
    "import numpy as np\n",
    "import pandas as pd\n",
    "import warnings\n",
    "from scipy import stats\n",
    "from sklearn.feature_selection import RFECV\n",
    "from scipy import interpolate\n",
    "from pandas import DataFrame\n",
    "#import seaborn as sns\n",
    "import sklearn\n",
    "from sklearn.model_selection import train_test_split\n",
    "from sklearn.metrics import classification_report\n",
    "import random\n",
    "from sklearn import metrics\n",
    "from sklearn.feature_selection import RFE\n",
    "from sklearn.linear_model import LogisticRegression\n",
    "from datetime import datetime, timedelta"
   ]
  },
  {
   "cell_type": "code",
   "execution_count": 60,
   "metadata": {
    "collapsed": false
   },
   "outputs": [
    {
     "data": {
      "text/plain": [
       "False"
      ]
     },
     "execution_count": 60,
     "metadata": {},
     "output_type": "execute_result"
    }
   ],
   "source": [
    "col_Names=[\"id\", \"imo\", \"lat\", \"lon\", \"course\", \"heading\", \"speed\", \"timestamp\", \"name\", \"type_name\", \"destination\"]\n",
    "\n",
    "df=pd.read_csv(\"C:/Users/Χαρά/Desktop/generalCargo.csv\", names = col_Names)\n",
    "null_ids = df['id'].isnull().values.any() # check if any id is null\n",
    "null_ids"
   ]
  },
  {
   "cell_type": "code",
   "execution_count": 61,
   "metadata": {
    "collapsed": false
   },
   "outputs": [
    {
     "name": "stdout",
     "output_type": "stream",
     "text": [
      "2453488\n"
     ]
    }
   ],
   "source": [
    "m = len(df)\n",
    "print(m)"
   ]
  },
  {
   "cell_type": "code",
   "execution_count": 62,
   "metadata": {
    "collapsed": false
   },
   "outputs": [
    {
     "data": {
      "text/plain": [
       "False"
      ]
     },
     "execution_count": 62,
     "metadata": {},
     "output_type": "execute_result"
    }
   ],
   "source": [
    "null_imo = df['imo'].isnull().values.any() # check if any imo is null\n",
    "null_imo"
   ]
  },
  {
   "cell_type": "code",
   "execution_count": 63,
   "metadata": {
    "collapsed": false
   },
   "outputs": [
    {
     "data": {
      "text/plain": [
       "False"
      ]
     },
     "execution_count": 63,
     "metadata": {},
     "output_type": "execute_result"
    }
   ],
   "source": [
    "null_lat = df['lat'].isnull().values.any() # check if any lat is null\n",
    "null_lat"
   ]
  },
  {
   "cell_type": "code",
   "execution_count": 64,
   "metadata": {
    "collapsed": false
   },
   "outputs": [
    {
     "data": {
      "text/plain": [
       "False"
      ]
     },
     "execution_count": 64,
     "metadata": {},
     "output_type": "execute_result"
    }
   ],
   "source": [
    "null_lon = df['lon'].isnull().values.any() # check if any lon is null\n",
    "null_lon"
   ]
  },
  {
   "cell_type": "code",
   "execution_count": 65,
   "metadata": {
    "collapsed": false
   },
   "outputs": [
    {
     "data": {
      "text/plain": [
       "False"
      ]
     },
     "execution_count": 65,
     "metadata": {},
     "output_type": "execute_result"
    }
   ],
   "source": [
    "null_course = df['course'].isnull().values.any() # check if any course is null\n",
    "null_course"
   ]
  },
  {
   "cell_type": "code",
   "execution_count": 66,
   "metadata": {
    "collapsed": false
   },
   "outputs": [
    {
     "data": {
      "text/plain": [
       "True"
      ]
     },
     "execution_count": 66,
     "metadata": {},
     "output_type": "execute_result"
    }
   ],
   "source": [
    "null_heading = df['heading'].isnull().values.any() # check if any heading is null\n",
    "null_heading # true or false"
   ]
  },
  {
   "cell_type": "code",
   "execution_count": 67,
   "metadata": {
    "collapsed": false
   },
   "outputs": [
    {
     "data": {
      "text/plain": [
       "False"
      ]
     },
     "execution_count": 67,
     "metadata": {},
     "output_type": "execute_result"
    }
   ],
   "source": [
    "null_speed = df['speed'].isnull().values.any() # check if any speed is null\n",
    "null_speed # true or false"
   ]
  },
  {
   "cell_type": "code",
   "execution_count": 68,
   "metadata": {
    "collapsed": false
   },
   "outputs": [
    {
     "data": {
      "text/plain": [
       "False"
      ]
     },
     "execution_count": 68,
     "metadata": {},
     "output_type": "execute_result"
    }
   ],
   "source": [
    "null_timestamp = df['timestamp'].isnull().values.any() # check if any timestamp is null\n",
    "null_timestamp # true or false"
   ]
  },
  {
   "cell_type": "code",
   "execution_count": 69,
   "metadata": {
    "collapsed": false
   },
   "outputs": [
    {
     "data": {
      "text/plain": [
       "False"
      ]
     },
     "execution_count": 69,
     "metadata": {},
     "output_type": "execute_result"
    }
   ],
   "source": [
    "null_name = df['name'].isnull().values.any() # check if any name is null\n",
    "null_name # true or false"
   ]
  },
  {
   "cell_type": "code",
   "execution_count": 70,
   "metadata": {
    "collapsed": false
   },
   "outputs": [
    {
     "data": {
      "text/plain": [
       "False"
      ]
     },
     "execution_count": 70,
     "metadata": {},
     "output_type": "execute_result"
    }
   ],
   "source": [
    "null_type_name = df['type_name'].isnull().values.any() # check if any type_name is null\n",
    "null_type_name # true or false"
   ]
  },
  {
   "cell_type": "code",
   "execution_count": 71,
   "metadata": {
    "collapsed": false
   },
   "outputs": [
    {
     "data": {
      "text/plain": [
       "True"
      ]
     },
     "execution_count": 71,
     "metadata": {},
     "output_type": "execute_result"
    }
   ],
   "source": [
    "null_destination = df['destination'].isnull().values.any() # check if any destination is null\n",
    "null_destination # true or false"
   ]
  },
  {
   "cell_type": "code",
   "execution_count": 72,
   "metadata": {
    "collapsed": false
   },
   "outputs": [],
   "source": [
    "values = {'heading': 'Unknown Heading', 'destination': 'Unknown Destination'}\n",
    "df = df.fillna(value=values) # fill nans of only the heading column's and destination column's"
   ]
  },
  {
   "cell_type": "code",
   "execution_count": 73,
   "metadata": {
    "collapsed": true
   },
   "outputs": [],
   "source": [
    "# group features over id and calculate inner heading value by mean value or something somehow"
   ]
  },
  {
   "cell_type": "code",
   "execution_count": 74,
   "metadata": {
    "collapsed": false
   },
   "outputs": [],
   "source": [
    "df.set_index('id', inplace=True)\n",
    "#df = df.sort_index()\n"
   ]
  },
  {
   "cell_type": "code",
   "execution_count": 75,
   "metadata": {
    "collapsed": false
   },
   "outputs": [
    {
     "name": "stdout",
     "output_type": "stream",
     "text": [
      "               imo       lat       lon  course heading  speed  \\\n",
      "id                                                              \n",
      "214182212  7223443  33.04407  16.41182     241     245    112   \n",
      "214182212  7223443  32.53799  15.52486     227     231    112   \n",
      "214182212  7223443  34.00855  18.83137     244     249    115   \n",
      "214182212  7223443  34.00392  18.81931     243     249    115   \n",
      "214182212  7223443  33.64227  17.79622     246     248    112   \n",
      "229071000  9631929  40.63508  22.92123     280     511      0   \n",
      "229071000  9631929  40.63511  22.92124     182     511      0   \n",
      "229071000  9631929  40.63510  22.92124     182     511      0   \n",
      "229071000  9631929  40.63514  22.92121     280     511      0   \n",
      "229071000  9631929  40.63511  22.92126     280     511      0   \n",
      "\n",
      "                     timestamp      name      type_name          destination  \n",
      "id                                                                            \n",
      "214182212  2015-08-02 08:49:27   SKYLARK  General Cargo  Unknown Destination  \n",
      "214182212  2015-08-02 13:30:28   SKYLARK  General Cargo  Unknown Destination  \n",
      "214182212  2015-08-01 20:38:58   SKYLARK  General Cargo  Unknown Destination  \n",
      "214182212  2015-08-01 20:42:27   SKYLARK  General Cargo  Unknown Destination  \n",
      "214182212  2015-08-02 01:32:47   SKYLARK  General Cargo  Unknown Destination  \n",
      "229071000  2015-08-16 02:29:57  MUNEVVER  General Cargo  Unknown Destination  \n",
      "229071000  2015-08-19 22:57:20  MUNEVVER  General Cargo  Unknown Destination  \n",
      "229071000  2015-08-19 23:21:20  MUNEVVER  General Cargo  Unknown Destination  \n",
      "229071000  2015-08-15 23:47:56  MUNEVVER  General Cargo  Unknown Destination  \n",
      "229071000  2015-08-08 19:23:09  MUNEVVER  General Cargo  Unknown Destination  \n"
     ]
    }
   ],
   "source": [
    "\n",
    "\n",
    "df_ = df.loc[df['destination'] == 'Unknown Destination']\n",
    "df_ = df_.sort_index()\n",
    "print(df_.head(10))"
   ]
  },
  {
   "cell_type": "code",
   "execution_count": 76,
   "metadata": {
    "collapsed": false
   },
   "outputs": [],
   "source": [
    "# check for duplicates...\n",
    "# print(df[df.duplicated()].sort_index())"
   ]
  },
  {
   "cell_type": "code",
   "execution_count": 77,
   "metadata": {
    "collapsed": false
   },
   "outputs": [
    {
     "name": "stdout",
     "output_type": "stream",
     "text": [
      "Empty DataFrame\n",
      "Columns: [imo, lat, lon, course, heading, speed, timestamp, name, type_name, destination]\n",
      "Index: []\n",
      "id\n",
      "256746000    GIBRALTAR\n",
      "241374000       LICATA\n",
      "671240000            Y\n",
      "244017000        MALTA\n",
      "271040283    CASTELLON\n",
      "Name: destination, dtype: object\n",
      "id\n",
      "271002264    Unknown Destination\n",
      "271002090    Unknown Destination\n",
      "271000192    Unknown Destination\n",
      "271002090    Unknown Destination\n",
      "271002108    Unknown Destination\n",
      "Name: destination, dtype: object\n"
     ]
    }
   ],
   "source": [
    "# take all unknown destination out of the dataset for a while... split df into 2 dfs one with unknown destinations and another with the known ones...\n",
    "# train df\n",
    "no_unknown_destinations_df = df.loc[df['destination'] != 'Unknown Destination']\n",
    "\n",
    "# print column 'destination' unknown destinations values from the newly created df ... it must find none!\n",
    "print(no_unknown_destinations_df.loc[no_unknown_destinations_df['destination'] == 'Unknown Destination'])\n",
    "# print newly created df's column 'destination'\n",
    "print(no_unknown_destinations_df['destination'].head())\n",
    "\n",
    "# test df\n",
    "unknown_destinations_df = df.loc[df['destination'] == 'Unknown Destination']\n",
    "print(unknown_destinations_df['destination'].head())"
   ]
  },
  {
   "cell_type": "code",
   "execution_count": 78,
   "metadata": {
    "collapsed": false
   },
   "outputs": [
    {
     "name": "stdout",
     "output_type": "stream",
     "text": [
      "               imo       lat        lon  course heading  speed  \\\n",
      "id                                                               \n",
      "256746000  9327774  36.97554  12.572110     279     279    113   \n",
      "256746000  9327774  36.97689  12.561800     280     279    113   \n",
      "256746000  9327774  36.97821  12.552710     280     279    113   \n",
      "256746000  9327774  36.97936  12.544920     280     279    114   \n",
      "256746000  9327774  36.98051  12.537050     280     279    115   \n",
      "256746000  9327774  36.98153  12.529170     279     279    116   \n",
      "256746000  9327774  36.98260  12.521240     278     279    117   \n",
      "256746000  9327774  36.98368  12.513210     279     279    117   \n",
      "256746000  9327774  36.98457  12.505170     278     279    117   \n",
      "256746000  9327774  36.98567  12.496960     278     279    117   \n",
      "256746000  9327774  36.98651  12.489050     280     281    117   \n",
      "256746000  9327774  36.98773  12.480920     280     281    117   \n",
      "256746000  9327774  36.98886  12.472890     280     281    118   \n",
      "256746000  9327774  36.99004  12.464210     280     281    117   \n",
      "256746000  9327774  36.99118  12.456300     280     281    117   \n",
      "256746000  9327774  36.99245  12.448360     280     281    116   \n",
      "256746000  9327774  36.99360  12.440420     280     280    117   \n",
      "256746000  9327774  36.99473  12.432450     280     280    117   \n",
      "256746000  9327774  36.99589  12.424480     280     281    117   \n",
      "256746000  9327774  36.99706  12.416450     280     281    117   \n",
      "256746000  9327774  36.99820  12.408460     280     281    118   \n",
      "256746000  9327774  36.99939  12.400430     280     280    118   \n",
      "256746000  9327774  37.00074  12.391790     281     281    118   \n",
      "256746000  9327774  37.00200  12.383630     280     280    119   \n",
      "256746000  9327774  37.00327  12.375520     280     281    118   \n",
      "256746000  9327774  37.00441  12.367410     279     279    119   \n",
      "256746000  9327774  37.00550  12.359330     280     280    119   \n",
      "256746000  9327774  37.00667  12.351230     279     279    119   \n",
      "256746000  9327774  37.00792  12.342330     279     280    119   \n",
      "256746000  9327774  37.00954  12.330140     279     279    119   \n",
      "...            ...       ...        ...     ...     ...    ...   \n",
      "256746000  9327774  37.65145  10.228690     269     268    111   \n",
      "256746000  9327774  37.65142  10.220860     269     267    111   \n",
      "256746000  9327774  37.65137  10.212500     269     267    112   \n",
      "256746000  9327774  37.65133  10.204630     269     267    112   \n",
      "256746000  9327774  37.65130  10.196790     269     267    112   \n",
      "256746000  9327774  37.65122  10.188310     269     267    112   \n",
      "256746000  9327774  37.65112  10.176540     269     267    112   \n",
      "256746000  9327774  37.65091  10.164730     268     267    112   \n",
      "256746000  9327774  37.65069  10.152200     268     267    112   \n",
      "256746000  9327774  37.65044  10.140350     268     267    112   \n",
      "256746000  9327774  37.65017  10.128550     268     267    113   \n",
      "256746000  9327774  37.64989  10.116740     270     269    113   \n",
      "256746000  9327774  37.64994  10.104760     270     268    114   \n",
      "256746000  9327774  37.65002  10.092860     270     268    114   \n",
      "256746000  9327774  37.65007  10.080850     270     268    114   \n",
      "256746000  9327774  37.65006  10.068740     269     269    114   \n",
      "256746000  9327774  37.65010  10.056180     270     269    114   \n",
      "256746000  9327774  37.64994  10.044190     269     268    114   \n",
      "256746000  9327774  37.64971  10.032180     266     266    113   \n",
      "256746000  9327774  37.64920  10.020180     267     265    114   \n",
      "256746000  9327774  37.64871  10.008170     267     266    114   \n",
      "256746000  9327774  37.64760   9.995577     254     254    113   \n",
      "256746000  9327774  37.64602   9.987766     255     255    114   \n",
      "256746000  9327774  37.64602   9.987766     255     255    114   \n",
      "256746000  9327774  37.64445   9.980046     255     254    114   \n",
      "256746000  9327774  37.64287   9.972245     255     254    113   \n",
      "256746000  9327774  37.64137   9.964507     255     255    114   \n",
      "256746000  9327774  37.63983   9.956761     256     253    113   \n",
      "256746000  9327774  37.63799   9.948497     254     252    114   \n",
      "256746000  9327774  37.63577   9.938885     254     253    114   \n",
      "\n",
      "                     timestamp      name      type_name destination  \n",
      "id                                                                   \n",
      "256746000  2015-08-01 00:00:00  SPAVALDA  General Cargo   GIBRALTAR  \n",
      "256746000  2015-08-01 00:02:38  SPAVALDA  General Cargo   GIBRALTAR  \n",
      "256746000  2015-08-01 00:05:00  SPAVALDA  General Cargo   GIBRALTAR  \n",
      "256746000  2015-08-01 00:07:00  SPAVALDA  General Cargo   GIBRALTAR  \n",
      "256746000  2015-08-01 00:09:00  SPAVALDA  General Cargo   GIBRALTAR  \n",
      "256746000  2015-08-01 00:11:00  SPAVALDA  General Cargo   GIBRALTAR  \n",
      "256746000  2015-08-01 00:13:00  SPAVALDA  General Cargo   GIBRALTAR  \n",
      "256746000  2015-08-01 00:15:00  SPAVALDA  General Cargo   GIBRALTAR  \n",
      "256746000  2015-08-01 00:17:00  SPAVALDA  General Cargo   GIBRALTAR  \n",
      "256746000  2015-08-01 00:19:01  SPAVALDA  General Cargo   GIBRALTAR  \n",
      "256746000  2015-08-01 00:21:00  SPAVALDA  General Cargo   GIBRALTAR  \n",
      "256746000  2015-08-01 00:23:02  SPAVALDA  General Cargo   GIBRALTAR  \n",
      "256746000  2015-08-01 00:25:02  SPAVALDA  General Cargo   GIBRALTAR  \n",
      "256746000  2015-08-01 00:27:11  SPAVALDA  General Cargo   GIBRALTAR  \n",
      "256746000  2015-08-01 00:29:11  SPAVALDA  General Cargo   GIBRALTAR  \n",
      "256746000  2015-08-01 00:31:11  SPAVALDA  General Cargo   GIBRALTAR  \n",
      "256746000  2015-08-01 00:33:11  SPAVALDA  General Cargo   GIBRALTAR  \n",
      "256746000  2015-08-01 00:35:11  SPAVALDA  General Cargo   GIBRALTAR  \n",
      "256746000  2015-08-01 00:37:11  SPAVALDA  General Cargo   GIBRALTAR  \n",
      "256746000  2015-08-01 00:39:11  SPAVALDA  General Cargo   GIBRALTAR  \n",
      "256746000  2015-08-01 00:41:11  SPAVALDA  General Cargo   GIBRALTAR  \n",
      "256746000  2015-08-01 00:43:11  SPAVALDA  General Cargo   GIBRALTAR  \n",
      "256746000  2015-08-01 00:45:18  SPAVALDA  General Cargo   GIBRALTAR  \n",
      "256746000  2015-08-01 00:47:19  SPAVALDA  General Cargo   GIBRALTAR  \n",
      "256746000  2015-08-01 00:49:21  SPAVALDA  General Cargo   GIBRALTAR  \n",
      "256746000  2015-08-01 00:51:21  SPAVALDA  General Cargo   GIBRALTAR  \n",
      "256746000  2015-08-01 00:53:21  SPAVALDA  General Cargo   GIBRALTAR  \n",
      "256746000  2015-08-01 00:55:22  SPAVALDA  General Cargo   GIBRALTAR  \n",
      "256746000  2015-08-01 00:57:31  SPAVALDA  General Cargo   GIBRALTAR  \n",
      "256746000  2015-08-01 01:00:32  SPAVALDA  General Cargo   GIBRALTAR  \n",
      "...                        ...       ...            ...         ...  \n",
      "256746000  2015-08-01 10:16:11  SPAVALDA  General Cargo   GIBRALTAR  \n",
      "256746000  2015-08-01 10:18:11  SPAVALDA  General Cargo   GIBRALTAR  \n",
      "256746000  2015-08-01 10:20:20  SPAVALDA  General Cargo   GIBRALTAR  \n",
      "256746000  2015-08-01 10:22:20  SPAVALDA  General Cargo   GIBRALTAR  \n",
      "256746000  2015-08-01 10:24:20  SPAVALDA  General Cargo   GIBRALTAR  \n",
      "256746000  2015-08-01 10:26:30  SPAVALDA  General Cargo   GIBRALTAR  \n",
      "256746000  2015-08-01 10:29:30  SPAVALDA  General Cargo   GIBRALTAR  \n",
      "256746000  2015-08-01 10:32:31  SPAVALDA  General Cargo   GIBRALTAR  \n",
      "256746000  2015-08-01 10:35:40  SPAVALDA  General Cargo   GIBRALTAR  \n",
      "256746000  2015-08-01 10:38:40  SPAVALDA  General Cargo   GIBRALTAR  \n",
      "256746000  2015-08-01 10:41:40  SPAVALDA  General Cargo   GIBRALTAR  \n",
      "256746000  2015-08-01 10:44:40  SPAVALDA  General Cargo   GIBRALTAR  \n",
      "256746000  2015-08-01 10:47:40  SPAVALDA  General Cargo   GIBRALTAR  \n",
      "256746000  2015-08-01 10:50:40  SPAVALDA  General Cargo   GIBRALTAR  \n",
      "256746000  2015-08-01 10:53:41  SPAVALDA  General Cargo   GIBRALTAR  \n",
      "256746000  2015-08-01 10:56:41  SPAVALDA  General Cargo   GIBRALTAR  \n",
      "256746000  2015-08-01 10:59:50  SPAVALDA  General Cargo   GIBRALTAR  \n",
      "256746000  2015-08-01 11:02:50  SPAVALDA  General Cargo   GIBRALTAR  \n",
      "256746000  2015-08-01 11:05:51  SPAVALDA  General Cargo   GIBRALTAR  \n",
      "256746000  2015-08-01 11:08:51  SPAVALDA  General Cargo   GIBRALTAR  \n",
      "256746000  2015-08-01 11:11:51  SPAVALDA  General Cargo   GIBRALTAR  \n",
      "256746000  2015-08-01 11:15:01  SPAVALDA  General Cargo   GIBRALTAR  \n",
      "256746000  2015-08-01 11:17:01  SPAVALDA  General Cargo   GIBRALTAR  \n",
      "256746000  2015-08-01 11:17:01  SPAVALDA  General Cargo   GIBRALTAR  \n",
      "256746000  2015-08-01 11:19:01  SPAVALDA  General Cargo   GIBRALTAR  \n",
      "256746000  2015-08-01 11:21:01  SPAVALDA  General Cargo   GIBRALTAR  \n",
      "256746000  2015-08-01 11:23:01  SPAVALDA  General Cargo   GIBRALTAR  \n",
      "256746000  2015-08-01 11:25:02  SPAVALDA  General Cargo   GIBRALTAR  \n",
      "256746000  2015-08-01 11:27:11  SPAVALDA  General Cargo   GIBRALTAR  \n",
      "256746000  2015-08-01 11:29:41  SPAVALDA  General Cargo   GIBRALTAR  \n",
      "\n",
      "[287 rows x 10 columns]\n"
     ]
    },
    {
     "data": {
      "image/png": "[encoded data removed]",
      "text/plain": [
       "<matplotlib.figure.Figure at 0x1e951829588>"
      ]
     },
     "metadata": {},
     "output_type": "display_data"
    }
   ],
   "source": [
    "#df = df.sort_index()\n",
    "\n",
    "groups = df.groupby(df.index)\n",
    "\n",
    "#print(grouped.first())\n",
    "\n",
    "print(groups.get_group(256746000))\n",
    "#print(grouped)\n",
    "\n",
    "# plot lat against lon to see the anomalous ones\n",
    "# plt.figure()\n",
    "# plt.scatter(df['lat'], df['lon'], color='red')\n",
    "# plt.show()\n",
    "\n",
    "\n",
    "# Plot each group's lat lon first few records via the head() with different color...\n",
    "fig, ax = plt.subplots()\n",
    "#plt.axis([xmin,xmax,ymin,ymax]) #for zooming\n",
    "#ax.axis([0, 50, 0, 30])\n",
    "ax.margins(0.01) # Optional, just adds 5% padding to the autoscaling\n",
    "for name, group in groups:\n",
    "    ax.plot(group['lat'].head(50), group['lon'].head(50), marker='o', linestyle='', ms=5, label=name)\n",
    "#ax.legend()\n",
    "plt.show()"
   ]
  },
  {
   "cell_type": "code",
   "execution_count": 79,
   "metadata": {
    "collapsed": false
   },
   "outputs": [
    {
     "name": "stdout",
     "output_type": "stream",
     "text": [
      "               imo       lat        lon  course heading  speed  \\\n",
      "id                                                               \n",
      "256746000  9327774  36.97554  12.572110     279     279    113   \n",
      "241374000  7903249  38.00850  16.621830     217     511    101   \n",
      "671240000  8812875  36.58783  23.526830     224     247     90   \n",
      "244017000  9246906  37.58095  15.888390     210     210     67   \n",
      "271040283  9473975  36.22883  15.731280     283     282     86   \n",
      "636016745  9506588  35.71525  14.561470     245     245    103   \n",
      "538005972  9268083  36.30018  14.467950     269     268    114   \n",
      "271000261  8913320  40.96595  28.933320      48     345      0   \n",
      "374749000  8516744  40.87383  29.183700      66      31      0   \n",
      "377768000  8130851  41.88612  28.865590     163     161    108   \n",
      "620040000  8401523  35.81150  27.391480     156     159    110   \n",
      "305826000  9559901  37.11659  12.003800     296     298    117   \n",
      "271002123  8212336  40.71723  28.821980     192     511    101   \n",
      "518100004  9043380  36.22171  21.999820     131     511    128   \n",
      "305245000  9435117  35.92247  16.151490      86      84     97   \n",
      "248098000  9143403  39.72167  11.168830     163     164     86   \n",
      "247285400  9504279  38.30073  12.590870      91      90    106   \n",
      "214182424  9071064  38.56694  25.753620     358       2    101   \n",
      "305562000  9017410  38.33194  13.023750     265     265     97   \n",
      "636012771  9371024  36.50601  14.391370     107     511     79   \n",
      "271002353  9187978  34.06480  27.698170      99      97     90   \n",
      "229940000  9364007  42.49010  15.796170     138     141     79   \n",
      "248832000  9173355  36.34214  21.527710      92      89    119   \n",
      "357019000  8319524  32.08599  24.055710      27     511      0   \n",
      "271002635  8216100  35.82396  10.646620     243     511      0   \n",
      "271000829  9357078  40.96780  19.235050     199     200    113   \n",
      "351429000  9508603  41.16019  17.410930     127     128     94   \n",
      "248400000  9453614  39.12607  19.457920     149     145     91   \n",
      "246210000  9229087  37.25006  20.845870     317     323    124   \n",
      "256183000  9057317  39.79373  19.319260     152     149     73   \n",
      "...            ...       ...        ...     ...     ...    ...   \n",
      "357601000  9196395  37.44365  10.860820     101     103    126   \n",
      "357601000  9196395  37.44211  10.869460     102     104    126   \n",
      "271002058  7819450  40.87226  29.244460       0     511      0   \n",
      "357601000  9196395  37.44029  10.880230     102     104    126   \n",
      "357601000  9196395  37.43645  10.901750     102     103    126   \n",
      "357601000  9196395  37.43417  10.914660     102     103    126   \n",
      "357601000  9196395  37.43171  10.928220     102     104    126   \n",
      "357601000  9196395  37.42957  10.940450     102     104    126   \n",
      "357601000  9196395  37.42759  10.951840     102     104    126   \n",
      "271002058  7819450  40.87226  29.244460       0     511      0   \n",
      "357601000  9196395  37.42562  10.962560     102     104    126   \n",
      "357601000  9196395  37.42363  10.974050     103     104    126   \n",
      "357601000  9196395  37.42202  10.983380     101     104    126   \n",
      "357601000  9196395  37.42005  10.994900     101     103    126   \n",
      "357601000  9196395  37.41846  11.004360     102     104    126   \n",
      "357601000  9196395  37.41692  11.013000     101     104    127   \n",
      "357601000  9196395  37.41091  11.040040     107     109    127   \n",
      "357601000  9196395  37.40617  11.059030     107     110    127   \n",
      "271002058  7819450  40.87226  29.244460       0     511      0   \n",
      "357601000  9196395  37.40270  11.072360     108     110    127   \n",
      "357601000  9196395  37.40035  11.081540     106     109    127   \n",
      "357601000  9196395  37.39503  11.102940     107     112    128   \n",
      "357601000  9196395  37.39082  11.116020     111     115    127   \n",
      "357601000  9196395  37.38405  11.134800     114     116    126   \n",
      "271002058  7819450  40.87226  29.244460       0     511      0   \n",
      "246620000  9509956  42.24618   9.933864     134     130    151   \n",
      "246620000  9509956  42.23751   9.946212     129     126    151   \n",
      "246620000  9509956  42.23189   9.955535     128     126    151   \n",
      "246620000  9509956  42.23189   9.955535     128     126    151   \n",
      "246620000  9509956  42.22667   9.964347     128     126    150   \n",
      "\n",
      "                     timestamp                 name      type_name  \\\n",
      "id                                                                   \n",
      "256746000  2015-08-01 00:00:00             SPAVALDA  General Cargo   \n",
      "241374000  2015-08-01 00:00:00        EVIACEMENT IV  General Cargo   \n",
      "671240000  2015-08-01 00:00:00               HUDA F  General Cargo   \n",
      "244017000  2015-08-01 00:00:00         FRISIAN LADY  General Cargo   \n",
      "271040283  2015-08-01 00:00:00              ATLAS B  General Cargo   \n",
      "636016745  2015-08-01 00:00:01                  BEE  General Cargo   \n",
      "538005972  2015-08-01 00:00:01      AUCKLAND SPIRIT  General Cargo   \n",
      "271000261  2015-08-01 00:00:01          ZINNET METE  General Cargo   \n",
      "374749000  2015-08-01 00:00:02                 LIRA  General Cargo   \n",
      "377768000  2015-08-01 00:00:03             SITHONIA  General Cargo   \n",
      "620040000  2015-08-01 00:00:05         OSMAN PRINCE  General Cargo   \n",
      "305826000  2015-08-01 00:00:05        THORCO AURORA  General Cargo   \n",
      "271002123  2015-08-01 00:00:06               ANNA M  General Cargo   \n",
      "518100004  2015-08-01 00:00:06                RUBUS  General Cargo   \n",
      "305245000  2015-08-01 00:00:07         BBC COLORADO  General Cargo   \n",
      "248098000  2015-08-01 00:00:07          SIDER CAPRI  General Cargo   \n",
      "247285400  2015-08-01 00:00:07              TOTO BR  General Cargo   \n",
      "214182424  2015-08-01 00:00:09             ST.MARIA  General Cargo   \n",
      "305562000  2015-08-01 00:00:09                 PERU  General Cargo   \n",
      "636012771  2015-08-01 00:00:10               SAXONA  General Cargo   \n",
      "271002353  2015-08-01 00:00:10             SEHER II  General Cargo   \n",
      "229940000  2015-08-01 00:00:11           SEA TRADER  General Cargo   \n",
      "248832000  2015-08-01 00:00:12           SIR ALBERT  General Cargo   \n",
      "357019000  2015-08-01 00:00:12            SEA AMORE  General Cargo   \n",
      "271002635  2015-08-01 00:00:12  BEKIR HACIBEKIROGLU  General Cargo   \n",
      "271000829  2015-08-01 00:00:12       OSMAN DOGRUYOL  General Cargo   \n",
      "351429000  2015-08-01 00:00:14                 ERGE  General Cargo   \n",
      "248400000  2015-08-01 00:00:15             MEROVING  General Cargo   \n",
      "246210000  2015-08-01 00:00:15           VOORNEDIEP  General Cargo   \n",
      "256183000  2015-08-01 00:00:15               EREGLI  General Cargo   \n",
      "...                        ...                  ...            ...   \n",
      "357601000  2015-08-23 00:01:01               PAGONA  General Cargo   \n",
      "357601000  2015-08-23 00:03:01               PAGONA  General Cargo   \n",
      "271002058  2015-08-23 00:03:39            SERVET KA  General Cargo   \n",
      "357601000  2015-08-23 00:05:31               PAGONA  General Cargo   \n",
      "357601000  2015-08-23 00:10:32               PAGONA  General Cargo   \n",
      "357601000  2015-08-23 00:13:32               PAGONA  General Cargo   \n",
      "357601000  2015-08-23 00:16:42               PAGONA  General Cargo   \n",
      "357601000  2015-08-23 00:19:32               PAGONA  General Cargo   \n",
      "357601000  2015-08-23 00:22:11               PAGONA  General Cargo   \n",
      "271002058  2015-08-23 00:24:23            SERVET KA  General Cargo   \n",
      "357601000  2015-08-23 00:24:59               PAGONA  General Cargo   \n",
      "357601000  2015-08-23 00:27:23               PAGONA  General Cargo   \n",
      "357601000  2015-08-23 00:29:31               PAGONA  General Cargo   \n",
      "357601000  2015-08-23 00:32:15               PAGONA  General Cargo   \n",
      "357601000  2015-08-23 00:34:22               PAGONA  General Cargo   \n",
      "357601000  2015-08-23 00:36:23               PAGONA  General Cargo   \n",
      "357601000  2015-08-23 00:42:45               PAGONA  General Cargo   \n",
      "357601000  2015-08-23 00:47:12               PAGONA  General Cargo   \n",
      "271002058  2015-08-23 00:47:52            SERVET KA  General Cargo   \n",
      "357601000  2015-08-23 00:50:20               PAGONA  General Cargo   \n",
      "357601000  2015-08-23 00:52:31               PAGONA  General Cargo   \n",
      "357601000  2015-08-23 00:57:31               PAGONA  General Cargo   \n",
      "357601000  2015-08-23 01:00:42               PAGONA  General Cargo   \n",
      "357601000  2015-08-23 01:05:21               PAGONA  General Cargo   \n",
      "271002058  2015-08-23 01:09:39            SERVET KA  General Cargo   \n",
      "246620000  2015-08-23 02:34:57          FLEVOGRACHT  General Cargo   \n",
      "246620000  2015-08-23 02:37:57          FLEVOGRACHT  General Cargo   \n",
      "246620000  2015-08-23 02:40:03          FLEVOGRACHT  General Cargo   \n",
      "246620000  2015-08-23 02:40:03          FLEVOGRACHT  General Cargo   \n",
      "246620000  2015-08-23 02:42:03          FLEVOGRACHT  General Cargo   \n",
      "\n",
      "              destination  \n",
      "id                         \n",
      "256746000       GIBRALTAR  \n",
      "241374000          LICATA  \n",
      "671240000               Y  \n",
      "244017000           MALTA  \n",
      "271040283       CASTELLON  \n",
      "636016745  GABES/TUNISIAN  \n",
      "538005972       GIBRALTAR  \n",
      "271000261          YUZHNY  \n",
      "374749000          KARTAL  \n",
      "377768000         BALCHIK  \n",
      "620040000      ALEXANDRIA  \n",
      "305826000          HUELVA  \n",
      "271002123         MUDANYA  \n",
      "518100004           HAIFA  \n",
      "305245000      ISKENDERUN  \n",
      "248098000           GABES  \n",
      "247285400         CROTONE  \n",
      "214182424          GEMLIK  \n",
      "305562000          BILBAO  \n",
      "636012771        TO ORDER  \n",
      "271002353           ORDER  \n",
      "229940000      ISKENDERUN  \n",
      "248832000  LARYMNA.GREECE  \n",
      "357019000          TOBRUK  \n",
      "271002635          SOUSSE  \n",
      "271000829   NEMRUT/TURKEY  \n",
      "351429000          SKIKDA  \n",
      "248400000    ROTA (TURKEY  \n",
      "246210000        BRINDISI  \n",
      "256183000         AMBARLI  \n",
      "...                   ...  \n",
      "357601000        MARGHERA  \n",
      "357601000        MARGHERA  \n",
      "271002058          PENDIK  \n",
      "357601000        MARGHERA  \n",
      "357601000        MARGHERA  \n",
      "357601000        MARGHERA  \n",
      "357601000        MARGHERA  \n",
      "357601000        MARGHERA  \n",
      "357601000        MARGHERA  \n",
      "271002058          PENDIK  \n",
      "357601000        MARGHERA  \n",
      "357601000        MARGHERA  \n",
      "357601000        MARGHERA  \n",
      "357601000        MARGHERA  \n",
      "357601000        MARGHERA  \n",
      "357601000        MARGHERA  \n",
      "357601000        MARGHERA  \n",
      "357601000        MARGHERA  \n",
      "271002058          PENDIK  \n",
      "357601000        MARGHERA  \n",
      "357601000        MARGHERA  \n",
      "357601000        MARGHERA  \n",
      "357601000        MARGHERA  \n",
      "357601000        MARGHERA  \n",
      "271002058          PENDIK  \n",
      "246620000         CATANIA  \n",
      "246620000         CATANIA  \n",
      "246620000         CATANIA  \n",
      "246620000         CATANIA  \n",
      "246620000         CATANIA  \n",
      "\n",
      "[141678 rows x 10 columns]\n"
     ]
    }
   ],
   "source": [
    "print(groups.head(100)) #inside each group there are all the rest records of that group... so if i get a group by its id i'll \n",
    "#have all its records returned... as i did get a group by its id in above cell"
   ]
  },
  {
   "cell_type": "code",
   "execution_count": 93,
   "metadata": {
    "collapsed": false,
    "scrolled": true
   },
   "outputs": [
    {
     "name": "stdout",
     "output_type": "stream",
     "text": [
      "id\n",
      "214180914    1\n",
      "214182404    1\n",
      "271000252    1\n",
      "271002432    1\n",
      "271999999    1\n",
      "338860000    1\n",
      "375859000    1\n",
      "538090152    1\n",
      "636015616    1\n",
      "dtype: int64\n",
      "               imo       lat       lon  course heading  speed  \\\n",
      "id                                                              \n",
      "636015616  9137818  36.53371  14.62891     128     253      4   \n",
      "\n",
      "                     timestamp           name      type_name destination  \\\n",
      "id                                                                         \n",
      "636015616  2015-08-18 11:35:45  CRYSTAL PEARL  General Cargo    SURABAYA   \n",
      "\n",
      "          navigation  \n",
      "id                    \n",
      "636015616        NaN  \n",
      "          id  0\n",
      "0  214180914  1\n",
      "1  214182404  1\n",
      "2  271000252  1\n",
      "3  271002432  1\n",
      "4  271999999  1\n",
      "5  338860000  1\n",
      "6  375859000  1\n",
      "7  538090152  1\n",
      "8  636015616  1\n",
      "id\n",
      "256746000    NaN\n",
      "241374000    NaN\n",
      "671240000    NaN\n",
      "244017000    NaN\n",
      "271040283    NaN\n",
      "Name: navigation, dtype: object\n"
     ]
    },
    {
     "data": {
      "text/html": [
       "<div>\n",
       "<table border=\"1\" class=\"dataframe\">\n",
       "  <thead>\n",
       "    <tr style=\"text-align: right;\">\n",
       "      <th></th>\n",
       "      <th>imo</th>\n",
       "      <th>lat</th>\n",
       "      <th>lon</th>\n",
       "      <th>course</th>\n",
       "      <th>heading</th>\n",
       "      <th>speed</th>\n",
       "      <th>timestamp</th>\n",
       "      <th>name</th>\n",
       "      <th>type_name</th>\n",
       "      <th>destination</th>\n",
       "      <th>navigation</th>\n",
       "    </tr>\n",
       "    <tr>\n",
       "      <th>id</th>\n",
       "      <th></th>\n",
       "      <th></th>\n",
       "      <th></th>\n",
       "      <th></th>\n",
       "      <th></th>\n",
       "      <th></th>\n",
       "      <th></th>\n",
       "      <th></th>\n",
       "      <th></th>\n",
       "      <th></th>\n",
       "      <th></th>\n",
       "    </tr>\n",
       "  </thead>\n",
       "  <tbody>\n",
       "    <tr>\n",
       "      <th>375859000</th>\n",
       "      <td>8509038</td>\n",
       "      <td>42.45035</td>\n",
       "      <td>18.65737</td>\n",
       "      <td>100</td>\n",
       "      <td>511</td>\n",
       "      <td>0</td>\n",
       "      <td>2015-08-03 17:38:27</td>\n",
       "      <td>MOONDANCE</td>\n",
       "      <td>General Cargo</td>\n",
       "      <td>BIJELA</td>\n",
       "      <td>ANCHORED</td>\n",
       "    </tr>\n",
       "    <tr>\n",
       "      <th>271999999</th>\n",
       "      <td>7129829</td>\n",
       "      <td>40.84840</td>\n",
       "      <td>29.29580</td>\n",
       "      <td>0</td>\n",
       "      <td>511</td>\n",
       "      <td>0</td>\n",
       "      <td>2015-08-10 10:33:18</td>\n",
       "      <td>CODA</td>\n",
       "      <td>General Cargo</td>\n",
       "      <td>Unknown Destination</td>\n",
       "      <td>ANCHORED</td>\n",
       "    </tr>\n",
       "    <tr>\n",
       "      <th>271000252</th>\n",
       "      <td>8139235</td>\n",
       "      <td>40.84940</td>\n",
       "      <td>29.28768</td>\n",
       "      <td>52</td>\n",
       "      <td>247</td>\n",
       "      <td>0</td>\n",
       "      <td>2015-08-11 02:25:46</td>\n",
       "      <td>MUHAMMET GUMUSTAS 3</td>\n",
       "      <td>General Cargo</td>\n",
       "      <td>Unknown Destination</td>\n",
       "      <td>ANCHORED</td>\n",
       "    </tr>\n",
       "    <tr>\n",
       "      <th>271002432</th>\n",
       "      <td>8139326</td>\n",
       "      <td>40.83585</td>\n",
       "      <td>29.27861</td>\n",
       "      <td>44</td>\n",
       "      <td>511</td>\n",
       "      <td>0</td>\n",
       "      <td>2015-08-20 10:27:39</td>\n",
       "      <td>DOGAN KARTAL</td>\n",
       "      <td>General Cargo</td>\n",
       "      <td>Unknown Destination</td>\n",
       "      <td>ANCHORED</td>\n",
       "    </tr>\n",
       "  </tbody>\n",
       "</table>\n",
       "</div>"
      ],
      "text/plain": [
       "               imo       lat       lon  course heading  speed  \\\n",
       "id                                                              \n",
       "375859000  8509038  42.45035  18.65737     100     511      0   \n",
       "271999999  7129829  40.84840  29.29580       0     511      0   \n",
       "271000252  8139235  40.84940  29.28768      52     247      0   \n",
       "271002432  8139326  40.83585  29.27861      44     511      0   \n",
       "\n",
       "                     timestamp                 name      type_name  \\\n",
       "id                                                                   \n",
       "375859000  2015-08-03 17:38:27            MOONDANCE  General Cargo   \n",
       "271999999  2015-08-10 10:33:18                 CODA  General Cargo   \n",
       "271000252  2015-08-11 02:25:46  MUHAMMET GUMUSTAS 3  General Cargo   \n",
       "271002432  2015-08-20 10:27:39         DOGAN KARTAL  General Cargo   \n",
       "\n",
       "                   destination navigation  \n",
       "id                                         \n",
       "375859000               BIJELA   ANCHORED  \n",
       "271999999  Unknown Destination   ANCHORED  \n",
       "271000252  Unknown Destination   ANCHORED  \n",
       "271002432  Unknown Destination   ANCHORED  "
      ]
     },
     "execution_count": 93,
     "metadata": {},
     "output_type": "execute_result"
    }
   ],
   "source": [
    "# append one more column to df called 'labels'\n",
    "#for group in groups:\n",
    "groupsize = groups.size()\n",
    "print(groupsize[groupsize == 1])\n",
    "print(groups.get_group(636015616))\n",
    "    #groups.loc[(group.speed == 0) & (groupsize == 1), 'labels'] = 'ANCHORED'\n",
    "        #group['labels'] = group['labels'].fillna(0)\n",
    "        #print(group) \n",
    "        \n",
    "\n",
    "print(groupsize[groupsize == 1].reset_index()) # prints the series index as a column so we have all indexes of groups of size 1\n",
    "# as a column with the name id\n",
    "for i in groupsize[groupsize == 1].reset_index()['id']:\n",
    "    if ( df['speed'].loc[i] == 0):\n",
    "        df.loc[i, 'navigation'] = \"ANCHORED\"\n",
    "# if speed = 0 and only one record of that id found then this means that the ship is \n",
    "# anchored in a port otherwise if speed = 0 and more records of tha ship's id found in the dataset\n",
    "# then this means that the ship is moored\n",
    "\n",
    "#df.loc[df.index[someRowNumber], 'navigation'] = \"ANCHORED\"\n",
    "#df = df[df.index.isin(groupsize['id'])]\n",
    "    \n",
    "print(df['navigation'].head())\n",
    "df.loc[df['navigation'] == \"ANCHORED\"]"
   ]
  },
  {
   "cell_type": "code",
   "execution_count": null,
   "metadata": {
    "collapsed": true
   },
   "outputs": [],
   "source": [
    "df.loc[(df['column_name'] >= A) & (df['column_name'] <= B)]"
   ]
  },
  {
   "cell_type": "code",
   "execution_count": 23,
   "metadata": {
    "collapsed": true
   },
   "outputs": [],
   "source": [
    "# add column navigation\n",
    "# group by same id and plot by groups\n",
    "# then observe which groups have anomalous lat lon comparatevly with other groups sequence of lat lons\n",
    "# this way find anomalous behavior by anomaly detection\n",
    "# label all as anomalous behavior \n",
    "# https://www.marineinsight.com/naval-architecture/different-types-of-manoeuvres-of-a-vessel/\n",
    "# https://www.marineinsight.com/naval-architecture/understanding-different-types-of-manoeuvres-of-a-vessel-2/\n",
    "# http://scikit-learn.sourceforge.net/stable/modules/hmm.html"
   ]
  },
  {
   "cell_type": "code",
   "execution_count": 19,
   "metadata": {
    "collapsed": true
   },
   "outputs": [],
   "source": [
    "# add labels as dead reckoning etc...\n",
    "# When calculating latitude from given (i)time run, (ii)speed and (iii)course with a calculator the formula is given\n",
    "# as Lat=Distance*Cos(Course). In contrast the longitude formula is given as Lo=Dist*Sin(course)/Cos(Lat)\n",
    "\n",
    "# ################# check here formulas for everything --> https://www.movable-type.co.uk/scripts/latlong.html ##################\n",
    "# according to grouped previous positions... since its grouped it's easy to find previous dead recogning or fixed point of\n",
    "# a same vessel and make calculations"
   ]
  },
  {
   "cell_type": "code",
   "execution_count": null,
   "metadata": {
    "collapsed": true
   },
   "outputs": [],
   "source": [
    "# make a linear or some other interpolation over next few hours to kind of predict next points\n",
    "# to do that append new hours to each group\n",
    "# or just calculate next dead reckonings till destination is reached better this to be done\n",
    "# individually in javascript and not here for performance issues due to the fact that reading bigger file is not so preferable\n",
    "# ################# check here formulas for everything --> https://www.movable-type.co.uk/scripts/latlong.html ##################"
   ]
  },
  {
   "cell_type": "code",
   "execution_count": null,
   "metadata": {
    "collapsed": true
   },
   "outputs": [],
   "source": [
    "# robust scaler\n",
    "# https://towardsdatascience.com/all-about-feature-scaling-bcc0ad75cb35\n",
    "# manual feature selection to train the model using those only...\n",
    "# https://medium.com/@categitau/in-one-of-my-previous-posts-i-introduced-machine-learning-and-talked-about-the-two-most-common-c1ac6e18df16\n",
    "# https://scikit-learn.org/stable/modules/tree.html#classification\n",
    "# train a model using destination column as labels\n",
    "# no grouped dataframe ungroup it somehow\n",
    "# save the model we'll use it in javascript again to make predictions..."
   ]
  },
  {
   "cell_type": "code",
   "execution_count": null,
   "metadata": {
    "collapsed": true
   },
   "outputs": [],
   "source": [
    "# then give only the unknown destination ones to predict the ideal destination label as a test here in python to see if it works!"
   ]
  }
 ],
 "metadata": {
  "anaconda-cloud": {},
  "kernelspec": {
   "display_name": "Python [default]",
   "language": "python",
   "name": "python3"
  },
  "language_info": {
   "codemirror_mode": {
    "name": "ipython",
    "version": 3
   },
   "file_extension": ".py",
   "mimetype": "text/x-python",
   "name": "python",
   "nbconvert_exporter": "python",
   "pygments_lexer": "ipython3",
   "version": "3.5.2"
  }
 },
 "nbformat": 4,
 "nbformat_minor": 4
}
