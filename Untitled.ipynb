{
 "cells": [
  {
   "cell_type": "code",
   "execution_count": 1,
   "metadata": {
    "collapsed": false
   },
   "outputs": [],
   "source": [
    "import matplotlib.pyplot as plt\n",
    "from sklearn import preprocessing\n",
    "import numpy as np\n",
    "import pandas as pd\n",
    "import warnings\n",
    "from scipy import stats\n",
    "from sklearn.feature_selection import RFECV\n",
    "from scipy import interpolate\n",
    "from pandas import DataFrame\n",
    "#import seaborn as sns\n",
    "import sklearn\n",
    "from sklearn.model_selection import train_test_split\n",
    "from sklearn.metrics import classification_report\n",
    "import random\n",
    "from sklearn import metrics\n",
    "from sklearn.feature_selection import RFE\n",
    "from sklearn.linear_model import LogisticRegression\n",
    "from datetime import datetime, timedelta"
   ]
  },
  {
   "cell_type": "code",
   "execution_count": 50,
   "metadata": {
    "collapsed": false
   },
   "outputs": [
    {
     "data": {
      "text/plain": [
       "False"
      ]
     },
     "execution_count": 50,
     "metadata": {},
     "output_type": "execute_result"
    }
   ],
   "source": [
    "col_Names=[\"id\", \"imo\", \"lat\", \"lon\", \"course\", \"heading\", \"speed\", \"timestamp\", \"name\", \"type_name\", \"destination\"]\n",
    "\n",
    "df=pd.read_csv(\"C:/Users/Χαρά/Desktop/generalCargo.csv\", names = col_Names)\n",
    "null_ids = df['id'].isnull().values.any() # check if any id is null\n",
    "null_ids"
   ]
  },
  {
   "cell_type": "code",
   "execution_count": 51,
   "metadata": {
    "collapsed": false
   },
   "outputs": [
    {
     "name": "stdout",
     "output_type": "stream",
     "text": [
      "2453488\n"
     ]
    }
   ],
   "source": [
    "m = len(df)\n",
    "print(m)"
   ]
  },
  {
   "cell_type": "code",
   "execution_count": 52,
   "metadata": {
    "collapsed": false
   },
   "outputs": [
    {
     "data": {
      "text/plain": [
       "False"
      ]
     },
     "execution_count": 52,
     "metadata": {},
     "output_type": "execute_result"
    }
   ],
   "source": [
    "null_imo = df['imo'].isnull().values.any() # check if any imo is null\n",
    "null_imo"
   ]
  },
  {
   "cell_type": "code",
   "execution_count": 53,
   "metadata": {
    "collapsed": false
   },
   "outputs": [
    {
     "data": {
      "text/plain": [
       "False"
      ]
     },
     "execution_count": 53,
     "metadata": {},
     "output_type": "execute_result"
    }
   ],
   "source": [
    "null_lat = df['lat'].isnull().values.any() # check if any lat is null\n",
    "null_lat"
   ]
  },
  {
   "cell_type": "code",
   "execution_count": 54,
   "metadata": {
    "collapsed": false
   },
   "outputs": [
    {
     "data": {
      "text/plain": [
       "False"
      ]
     },
     "execution_count": 54,
     "metadata": {},
     "output_type": "execute_result"
    }
   ],
   "source": [
    "null_lon = df['lon'].isnull().values.any() # check if any lon is null\n",
    "null_lon"
   ]
  },
  {
   "cell_type": "code",
   "execution_count": 55,
   "metadata": {
    "collapsed": false
   },
   "outputs": [
    {
     "data": {
      "text/plain": [
       "False"
      ]
     },
     "execution_count": 55,
     "metadata": {},
     "output_type": "execute_result"
    }
   ],
   "source": [
    "null_course = df['course'].isnull().values.any() # check if any course is null\n",
    "null_course"
   ]
  },
  {
   "cell_type": "code",
   "execution_count": 56,
   "metadata": {
    "collapsed": false
   },
   "outputs": [
    {
     "data": {
      "text/plain": [
       "True"
      ]
     },
     "execution_count": 56,
     "metadata": {},
     "output_type": "execute_result"
    }
   ],
   "source": [
    "null_heading = df['heading'].isnull().values.any() # check if any heading is null\n",
    "null_heading # true or false"
   ]
  },
  {
   "cell_type": "code",
   "execution_count": 57,
   "metadata": {
    "collapsed": false
   },
   "outputs": [
    {
     "data": {
      "text/plain": [
       "False"
      ]
     },
     "execution_count": 57,
     "metadata": {},
     "output_type": "execute_result"
    }
   ],
   "source": [
    "null_speed = df['speed'].isnull().values.any() # check if any speed is null\n",
    "null_speed # true or false"
   ]
  },
  {
   "cell_type": "code",
   "execution_count": 58,
   "metadata": {
    "collapsed": false
   },
   "outputs": [
    {
     "data": {
      "text/plain": [
       "False"
      ]
     },
     "execution_count": 58,
     "metadata": {},
     "output_type": "execute_result"
    }
   ],
   "source": [
    "null_timestamp = df['timestamp'].isnull().values.any() # check if any timestamp is null\n",
    "null_timestamp # true or false"
   ]
  },
  {
   "cell_type": "code",
   "execution_count": 59,
   "metadata": {
    "collapsed": false
   },
   "outputs": [
    {
     "data": {
      "text/plain": [
       "False"
      ]
     },
     "execution_count": 59,
     "metadata": {},
     "output_type": "execute_result"
    }
   ],
   "source": [
    "null_name = df['name'].isnull().values.any() # check if any name is null\n",
    "null_name # true or false"
   ]
  },
  {
   "cell_type": "code",
   "execution_count": 60,
   "metadata": {
    "collapsed": false
   },
   "outputs": [
    {
     "data": {
      "text/plain": [
       "False"
      ]
     },
     "execution_count": 60,
     "metadata": {},
     "output_type": "execute_result"
    }
   ],
   "source": [
    "null_type_name = df['type_name'].isnull().values.any() # check if any type_name is null\n",
    "null_type_name # true or false"
   ]
  },
  {
   "cell_type": "code",
   "execution_count": 61,
   "metadata": {
    "collapsed": false
   },
   "outputs": [
    {
     "data": {
      "text/plain": [
       "True"
      ]
     },
     "execution_count": 61,
     "metadata": {},
     "output_type": "execute_result"
    }
   ],
   "source": [
    "null_destination = df['destination'].isnull().values.any() # check if any destination is null\n",
    "null_destination # true or false"
   ]
  },
  {
   "cell_type": "code",
   "execution_count": 62,
   "metadata": {
    "collapsed": false
   },
   "outputs": [],
   "source": [
    "values = {'heading': 'Unknown Heading', 'destination': 'Unknown Destination'}\n",
    "df = df.fillna(value=values) # fill nans of only the heading column's and destination column's"
   ]
  },
  {
   "cell_type": "code",
   "execution_count": 63,
   "metadata": {
    "collapsed": true
   },
   "outputs": [],
   "source": [
    "# group features over id and calculate inner heading value by mean value or something somehow"
   ]
  },
  {
   "cell_type": "code",
   "execution_count": 64,
   "metadata": {
    "collapsed": false
   },
   "outputs": [],
   "source": [
    "df.set_index('id', inplace=True)\n"
   ]
  },
  {
   "cell_type": "code",
   "execution_count": 65,
   "metadata": {
    "collapsed": false
   },
   "outputs": [
    {
     "name": "stdout",
     "output_type": "stream",
     "text": [
      "               imo       lat       lon  course heading  speed  \\\n",
      "id                                                              \n",
      "271002264  7520712  39.43900  26.31967     285     290    108   \n",
      "271002090  7407219  40.83602  29.25279     324     511     52   \n",
      "271000192  8913332  40.72005  29.47870     353     511      1   \n",
      "271002090  7407219  40.83594  29.25281     198     511      1   \n",
      "271002108  7514359  37.26139  27.59169     136     511      0   \n",
      "229071000  9631929  40.63510  22.92124     280     511      0   \n",
      "271002090  7407219  40.83590  29.25280     356     511      0   \n",
      "237066700  9034896  39.35017  22.98783      16     511      0   \n",
      "271002264  7520712  39.44598  26.29095     289     291    107   \n",
      "271002090  7407219  40.83595  29.25295      59     511     72   \n",
      "272145000  8918394  41.00356  29.01292     102     511      0   \n",
      "271002090  7407219  40.83601  29.25313      59     511     72   \n",
      "271002214  7364601  40.97026  28.86554       0     511      0   \n",
      "271002384  6924519  40.85332  29.28732       0     511      0   \n",
      "271002090  7407219  40.83580  29.25292      59     511     72   \n",
      "271002090  7407219  40.83609  29.25261     264     511     64   \n",
      "271000192  8913332  40.72004  29.47872     342     511      1   \n",
      "271010167  8883874  40.87215  29.24460       0     511      0   \n",
      "312182000  8862820  40.98050  28.93300     168     511      1   \n",
      "271002090  7407219  40.83600  29.25267     341     511      1   \n",
      "271002108  7514359  37.26165  27.59146     312     511      0   \n",
      "271002090  7407219  40.83578  29.25292     251     511     66   \n",
      "229071000  9631929  40.63512  22.92126     280     511      0   \n",
      "271002090  7407219  40.83601  29.25245     251     511     66   \n",
      "272145000  8918394  41.00352  29.01293     102     511      0   \n",
      "237066700  9034896  39.35017  22.98783     225     511      0   \n",
      "271002090  7407219  40.83585  29.25315     134     511     33   \n",
      "271002384  6924519  40.85339  29.28735       0     511      0   \n",
      "271002090  7407219  40.83570  29.25288     205     511     95   \n",
      "271002214  7364601  40.97026  28.86554       0     511      0   \n",
      "...            ...       ...       ...     ...     ...    ...   \n",
      "271002077  7364390  40.88243  29.20447       0     511      0   \n",
      "271002119  8139302  40.88285  29.20342     172     511      0   \n",
      "271002427  8850657  40.64751  27.56383     314     511      5   \n",
      "256918000  9622760  40.77029  29.72099     354      92      0   \n",
      "229071000  9631929  40.63515  22.92123     182     511      0   \n",
      "271002339  5374638  40.87703  29.21002     342     511      0   \n",
      "271002403  7946681  40.99534  28.95666      95     511      1   \n",
      "237066700  9034896  39.15733  22.85233     230     511      0   \n",
      "271000192  8913332  40.72004  29.47867     258     511      0   \n",
      "271002384  6924519  40.98143  28.91797     311     511      0   \n",
      "312182000  8862820  40.97967  28.93133     324     511      0   \n",
      "271002130  8858776  40.88253  29.20445      36     511      0   \n",
      "271002427  8850657  40.64738  27.56405     298     511      6   \n",
      "256918000  9622760  40.77028  29.72099     245      92      0   \n",
      "271002077  7364390  40.88243  29.20443       0     511      0   \n",
      "271002119  8139302  40.88283  29.20341      90     511      0   \n",
      "229071000  9631929  40.63511  22.92122     182     511      0   \n",
      "271002339  5374638  40.87711  29.21023     165     511      0   \n",
      "271002427  8850657  40.64736  27.56415     285     511      5   \n",
      "271002214  7364601  40.65570  27.66077       0      84      0   \n",
      "271002403  7946681  40.99526  28.95625     305     511      0   \n",
      "237066700  9034896  39.15733  22.85233     245     511      0   \n",
      "271000192  8913332  40.72002  29.47868     269     511      0   \n",
      "312182000  8862820  40.97967  28.93133     335     511      0   \n",
      "271002130  8858776  40.88253  29.20445      36     511      0   \n",
      "271002384  6924519  40.98150  28.91727     294     511      1   \n",
      "271002427  8850657  40.64750  27.56379     308     511      4   \n",
      "256918000  9622760  40.77028  29.72098     274      92      0   \n",
      "271002119  8139302  40.88283  29.20339       0     511      0   \n",
      "271002077  7364390  40.88242  29.20445       0     511      0   \n",
      "\n",
      "                     timestamp            name      type_name  \\\n",
      "id                                                              \n",
      "271002264  2015-08-01 00:01:48         MIRAC 3  General Cargo   \n",
      "271002090  2015-08-01 00:02:12     MEHMET AKIN  General Cargo   \n",
      "271000192  2015-08-01 00:02:23  CAFER KALKAVAN  General Cargo   \n",
      "271002090  2015-08-01 00:04:07     MEHMET AKIN  General Cargo   \n",
      "271002108  2015-08-01 00:04:40      ILYAS ARAZ  General Cargo   \n",
      "229071000  2015-08-01 00:07:17        MUNEVVER  General Cargo   \n",
      "271002090  2015-08-01 00:07:49     MEHMET AKIN  General Cargo   \n",
      "237066700  2015-08-01 00:08:49        IOLKOS I  General Cargo   \n",
      "271002264  2015-08-01 00:09:49         MIRAC 3  General Cargo   \n",
      "271002090  2015-08-01 00:10:50     MEHMET AKIN  General Cargo   \n",
      "272145000  2015-08-01 00:10:57     TATARBUNARY  General Cargo   \n",
      "271002090  2015-08-01 00:14:19     MEHMET AKIN  General Cargo   \n",
      "271002214  2015-08-01 00:14:57           DGN 3  General Cargo   \n",
      "271002384  2015-08-01 00:16:46       MENEKSE 1  General Cargo   \n",
      "271002090  2015-08-01 00:17:21     MEHMET AKIN  General Cargo   \n",
      "271002090  2015-08-01 00:19:19     MEHMET AKIN  General Cargo   \n",
      "271000192  2015-08-01 00:22:21  CAFER KALKAVAN  General Cargo   \n",
      "271010167  2015-08-01 00:22:21          GRANIT  General Cargo   \n",
      "312182000  2015-08-01 00:23:20           ARIES  General Cargo   \n",
      "271002090  2015-08-01 00:23:52     MEHMET AKIN  General Cargo   \n",
      "271002108  2015-08-01 00:25:40      ILYAS ARAZ  General Cargo   \n",
      "271002090  2015-08-01 00:27:48     MEHMET AKIN  General Cargo   \n",
      "229071000  2015-08-01 00:28:18        MUNEVVER  General Cargo   \n",
      "271002090  2015-08-01 00:30:50     MEHMET AKIN  General Cargo   \n",
      "272145000  2015-08-01 00:31:59     TATARBUNARY  General Cargo   \n",
      "237066700  2015-08-01 00:32:50        IOLKOS I  General Cargo   \n",
      "271002090  2015-08-01 00:34:18     MEHMET AKIN  General Cargo   \n",
      "271002384  2015-08-01 00:37:47       MENEKSE 1  General Cargo   \n",
      "271002090  2015-08-01 00:37:48     MEHMET AKIN  General Cargo   \n",
      "271002214  2015-08-01 00:38:48           DGN 3  General Cargo   \n",
      "...                        ...             ...            ...   \n",
      "271002077  2015-08-23 01:57:15       KUMDASG 2  General Cargo   \n",
      "271002119  2015-08-23 01:59:11      KAAN SONAY  General Cargo   \n",
      "271002427  2015-08-23 01:59:44        NEHIR ES  General Cargo   \n",
      "256918000  2015-08-23 02:00:10         YM FUJI  General Cargo   \n",
      "229071000  2015-08-23 02:00:37        MUNEVVER  General Cargo   \n",
      "271002339  2015-08-23 02:01:47  KAPTAN IBRAHIM  General Cargo   \n",
      "271002403  2015-08-23 02:05:13           AYDER  General Cargo   \n",
      "237066700  2015-08-23 02:06:30        IOLKOS I  General Cargo   \n",
      "271000192  2015-08-23 02:06:49  CAFER KALKAVAN  General Cargo   \n",
      "271002384  2015-08-23 02:10:54       MENEKSE 1  General Cargo   \n",
      "312182000  2015-08-23 02:12:39           ARIES  General Cargo   \n",
      "271002130  2015-08-23 02:13:38         KUMDASG  General Cargo   \n",
      "271002427  2015-08-23 02:17:46        NEHIR ES  General Cargo   \n",
      "256918000  2015-08-23 02:20:32         YM FUJI  General Cargo   \n",
      "271002077  2015-08-23 02:21:04       KUMDASG 2  General Cargo   \n",
      "271002119  2015-08-23 02:21:15      KAAN SONAY  General Cargo   \n",
      "229071000  2015-08-23 02:21:37        MUNEVVER  General Cargo   \n",
      "271002339  2015-08-23 02:25:47  KAPTAN IBRAHIM  General Cargo   \n",
      "271002427  2015-08-23 02:26:45        NEHIR ES  General Cargo   \n",
      "271002214  2015-08-23 02:27:44           DGN 3  General Cargo   \n",
      "271002403  2015-08-23 02:29:13           AYDER  General Cargo   \n",
      "237066700  2015-08-23 02:30:30        IOLKOS I  General Cargo   \n",
      "271000192  2015-08-23 02:30:46  CAFER KALKAVAN  General Cargo   \n",
      "312182000  2015-08-23 02:33:27           ARIES  General Cargo   \n",
      "271002130  2015-08-23 02:34:29         KUMDASG  General Cargo   \n",
      "271002384  2015-08-23 02:37:54       MENEKSE 1  General Cargo   \n",
      "271002427  2015-08-23 02:38:44        NEHIR ES  General Cargo   \n",
      "256918000  2015-08-23 02:41:10         YM FUJI  General Cargo   \n",
      "271002119  2015-08-23 02:42:15      KAAN SONAY  General Cargo   \n",
      "271002077  2015-08-23 02:43:15       KUMDASG 2  General Cargo   \n",
      "\n",
      "                   destination  \n",
      "id                              \n",
      "271002264  Unknown Destination  \n",
      "271002090  Unknown Destination  \n",
      "271000192  Unknown Destination  \n",
      "271002090  Unknown Destination  \n",
      "271002108  Unknown Destination  \n",
      "229071000  Unknown Destination  \n",
      "271002090  Unknown Destination  \n",
      "237066700  Unknown Destination  \n",
      "271002264  Unknown Destination  \n",
      "271002090  Unknown Destination  \n",
      "272145000  Unknown Destination  \n",
      "271002090  Unknown Destination  \n",
      "271002214  Unknown Destination  \n",
      "271002384  Unknown Destination  \n",
      "271002090  Unknown Destination  \n",
      "271002090  Unknown Destination  \n",
      "271000192  Unknown Destination  \n",
      "271010167  Unknown Destination  \n",
      "312182000  Unknown Destination  \n",
      "271002090  Unknown Destination  \n",
      "271002108  Unknown Destination  \n",
      "271002090  Unknown Destination  \n",
      "229071000  Unknown Destination  \n",
      "271002090  Unknown Destination  \n",
      "272145000  Unknown Destination  \n",
      "237066700  Unknown Destination  \n",
      "271002090  Unknown Destination  \n",
      "271002384  Unknown Destination  \n",
      "271002090  Unknown Destination  \n",
      "271002214  Unknown Destination  \n",
      "...                        ...  \n",
      "271002077  Unknown Destination  \n",
      "271002119  Unknown Destination  \n",
      "271002427  Unknown Destination  \n",
      "256918000  Unknown Destination  \n",
      "229071000  Unknown Destination  \n",
      "271002339  Unknown Destination  \n",
      "271002403  Unknown Destination  \n",
      "237066700  Unknown Destination  \n",
      "271000192  Unknown Destination  \n",
      "271002384  Unknown Destination  \n",
      "312182000  Unknown Destination  \n",
      "271002130  Unknown Destination  \n",
      "271002427  Unknown Destination  \n",
      "256918000  Unknown Destination  \n",
      "271002077  Unknown Destination  \n",
      "271002119  Unknown Destination  \n",
      "229071000  Unknown Destination  \n",
      "271002339  Unknown Destination  \n",
      "271002427  Unknown Destination  \n",
      "271002214  Unknown Destination  \n",
      "271002403  Unknown Destination  \n",
      "237066700  Unknown Destination  \n",
      "271000192  Unknown Destination  \n",
      "312182000  Unknown Destination  \n",
      "271002130  Unknown Destination  \n",
      "271002384  Unknown Destination  \n",
      "271002427  Unknown Destination  \n",
      "256918000  Unknown Destination  \n",
      "271002119  Unknown Destination  \n",
      "271002077  Unknown Destination  \n",
      "\n",
      "[41302 rows x 10 columns]\n"
     ]
    }
   ],
   "source": [
    "print(df.loc[df['destination'] == 'Unknown Destination'])"
   ]
  },
  {
   "cell_type": "code",
   "execution_count": 66,
   "metadata": {
    "collapsed": false
   },
   "outputs": [],
   "source": [
    "# check for duplicates...\n",
    "# print(df[df.duplicated()].sort_index())"
   ]
  },
  {
   "cell_type": "code",
   "execution_count": 67,
   "metadata": {
    "collapsed": false
   },
   "outputs": [
    {
     "name": "stdout",
     "output_type": "stream",
     "text": [
      "Empty DataFrame\n",
      "Columns: [imo, lat, lon, course, heading, speed, timestamp, name, type_name, destination]\n",
      "Index: []\n",
      "id\n",
      "256746000    GIBRALTAR\n",
      "241374000       LICATA\n",
      "671240000            Y\n",
      "244017000        MALTA\n",
      "271040283    CASTELLON\n",
      "Name: destination, dtype: object\n",
      "id\n",
      "271002264    Unknown Destination\n",
      "271002090    Unknown Destination\n",
      "271000192    Unknown Destination\n",
      "271002090    Unknown Destination\n",
      "271002108    Unknown Destination\n",
      "Name: destination, dtype: object\n"
     ]
    }
   ],
   "source": [
    "# take all unknown destination out of the dataset for a while... \n",
    "# train df\n",
    "no_unknown_destinations_df = df.loc[df['destination'] != 'Unknown Destination']\n",
    "\n",
    "# print column 'destination' unknown destinations values from the newly created df ... it must find none!\n",
    "print(no_unknown_destinations_df.loc[no_unknown_destinations_df['destination'] == 'Unknown Destination'])\n",
    "# print newly created df's column 'destination'\n",
    "print(no_unknown_destinations_df['destination'].head())\n",
    "\n",
    "# test df\n",
    "unknown_destinations_df = df.loc[df['destination'] == 'Unknown Destination']\n",
    "print(unknown_destinations_df['destination'].head())"
   ]
  },
  {
   "cell_type": "code",
   "execution_count": 68,
   "metadata": {
    "collapsed": false
   },
   "outputs": [
    {
     "name": "stdout",
     "output_type": "stream",
     "text": [
      "               imo       lat        lon  course heading  speed  \\\n",
      "id                                                               \n",
      "0          6523901  40.95783  28.977830      49     511     35   \n",
      "0          6523901  40.76266  28.292330      84     511     77   \n",
      "0          6523901  40.98550  28.927830     195     511      0   \n",
      "0          6523901  41.00134  29.000170       4     511     50   \n",
      "0          6523901  40.98550  28.927670      31     511      1   \n",
      "0          6523901  40.70100  27.745170      67     511     79   \n",
      "0          6523901  40.73317  27.854330      75     511     81   \n",
      "0          6523901  41.08833  29.063330       5     511     63   \n",
      "0          6523901  40.98600  28.927330      37     511      1   \n",
      "0          6523901  41.17150  29.076670      32     511     68   \n",
      "0          6523901  41.03533  29.015670      56     511     48   \n",
      "0          6523901  41.05350  29.047170      26     511     45   \n",
      "0          6523901  40.75000  28.123330      84     511     80   \n",
      "0          6523901  40.69200  27.717170      65     511     80   \n",
      "0          6523901  40.98567  28.927500     214     511      0   \n",
      "0          6523901  40.74517  28.018500      84     511     81   \n",
      "0          6523901  40.94500  28.965330      40     511     49   \n",
      "0          6523901  40.98617  28.927330     223     511      0   \n",
      "0          6523901  41.12867  29.081500     316     511     75   \n",
      "0          6523901  40.71417  27.787170      67     511     80   \n",
      "0          6523901  40.98567  28.927330     170     511      1   \n",
      "0          6523901  40.74367  27.994170      85     511     80   \n",
      "0          6523901  40.98550  28.927830     143     511      2   \n",
      "0          6523901  40.73783  27.906500      84     511     80   \n",
      "0          6523901  41.04833  29.039830      53     511     45   \n",
      "0          6523901  40.93850  28.958330      37     511     63   \n",
      "0          6523901  40.98450  28.931000     157     511     55   \n",
      "0          6523901  41.04533  29.034670      49     511     41   \n",
      "0          6523901  40.95433  28.973500      39     511     40   \n",
      "0          6523901  40.73450  27.860500      73     511     81   \n",
      "...            ...       ...        ...     ...     ...    ...   \n",
      "720927000  9071052  37.61655  10.436910     286     285     88   \n",
      "720927000  9071052  37.12496  12.360840     284     289     88   \n",
      "720927000  9071052  37.63408  10.332290     275     275     86   \n",
      "720927000  9071052  37.44307  11.225000     290     290     91   \n",
      "720927000  9071052  37.11427  12.414920     284     288     87   \n",
      "720927000  9071052  37.32509  11.617210     292     292     97   \n",
      "720927000  9071052  37.14887  12.249520     285     290     90   \n",
      "720927000  9071052  37.17846  12.116100     288     294     92   \n",
      "720927000  9071052  37.60748   9.935928     254     252     92   \n",
      "720927000  9071052  37.43965  11.237010     289     289     91   \n",
      "720927000  9071052  37.10045  12.485030     286     288     88   \n",
      "720927000  9071052  37.12614  12.354880     284     289     88   \n",
      "720927000  9071052  37.20921  12.013700     292     294     92   \n",
      "720927000  9071052  37.24987  11.868880     289     292     90   \n",
      "720927000  9071052  37.21652  11.990930     291     294     91   \n",
      "720927000  9071052  37.52295  10.876570     285     283     89   \n",
      "720927000  9071052  37.62957  10.375840     279     280     88   \n",
      "720927000  9071052  37.63729  10.089050     270     268     90   \n",
      "720927000  9071052  37.56359  10.654620     284     283     84   \n",
      "720927000  9071052  37.47491  11.092920     283     283     89   \n",
      "720927000  9071052  37.32208  11.626590     292     291     98   \n",
      "720927000  9071052  37.48038  11.062090     282     283     88   \n",
      "720927000  9071052  37.39793  11.391880     290     289     97   \n",
      "720927000  9071052  37.11539  12.409050     283     288     87   \n",
      "720927000  9071052  37.15142  12.237260     285     290     93   \n",
      "720927000  9071052  37.38298  11.440680     294     291     99   \n",
      "720927000  9071052  37.47934  11.068110     283     283     89   \n",
      "720927000  9071052  37.35591  11.521970     293     291     99   \n",
      "720927000  9071052  37.60338  10.495170     287     288     85   \n",
      "720927000  9071052  37.47599  11.086830     283     283     89   \n",
      "\n",
      "                     timestamp      name      type_name destination  \n",
      "id                                                                   \n",
      "0          2015-08-09 12:01:24  KANLAR 3  General Cargo     AMBARLI  \n",
      "0          2015-08-15 17:20:04  KANLAR 3  General Cargo     AMBARLI  \n",
      "0          2015-08-08 21:21:11  KANLAR 3  General Cargo     AMBARLI  \n",
      "0          2015-08-09 12:39:41  KANLAR 3  General Cargo     AMBARLI  \n",
      "0          2015-08-09 10:51:01  KANLAR 3  General Cargo     AMBARLI  \n",
      "0          2015-08-15 14:09:45  KANLAR 3  General Cargo     AMBARLI  \n",
      "0          2015-08-15 14:49:24  KANLAR 3  General Cargo     AMBARLI  \n",
      "0          2015-08-09 13:54:21  KANLAR 3  General Cargo     AMBARLI  \n",
      "0          2015-08-09 00:48:43  KANLAR 3  General Cargo     AMBARLI  \n",
      "0          2015-08-09 14:46:06  KANLAR 3  General Cargo     AMBARLI  \n",
      "0          2015-08-09 13:05:40  KANLAR 3  General Cargo     AMBARLI  \n",
      "0          2015-08-09 13:29:24  KANLAR 3  General Cargo     AMBARLI  \n",
      "0          2015-08-15 16:20:34  KANLAR 3  General Cargo     AMBARLI  \n",
      "0          2015-08-15 13:59:24  KANLAR 3  General Cargo     AMBARLI  \n",
      "0          2015-08-09 02:23:12  KANLAR 3  General Cargo     AMBARLI  \n",
      "0          2015-08-15 15:45:15  KANLAR 3  General Cargo     AMBARLI  \n",
      "0          2015-08-09 11:47:33  KANLAR 3  General Cargo     AMBARLI  \n",
      "0          2015-08-09 06:01:51  KANLAR 3  General Cargo     AMBARLI  \n",
      "0          2015-08-09 14:20:07  KANLAR 3  General Cargo     AMBARLI  \n",
      "0          2015-08-15 14:25:15  KANLAR 3  General Cargo     AMBARLI  \n",
      "0          2015-08-08 12:44:06  KANLAR 3  General Cargo     AMBARLI  \n",
      "0          2015-08-15 15:37:04  KANLAR 3  General Cargo     AMBARLI  \n",
      "0          2015-08-09 10:23:11  KANLAR 3  General Cargo     AMBARLI  \n",
      "0          2015-08-15 15:07:14  KANLAR 3  General Cargo     AMBARLI  \n",
      "0          2015-08-09 13:23:21  KANLAR 3  General Cargo     AMBARLI  \n",
      "0          2015-08-09 11:42:03  KANLAR 3  General Cargo     AMBARLI  \n",
      "0          2015-08-09 11:06:33  KANLAR 3  General Cargo     AMBARLI  \n",
      "0          2015-08-09 13:19:21  KANLAR 3  General Cargo     AMBARLI  \n",
      "0          2015-08-09 11:56:42  KANLAR 3  General Cargo     AMBARLI  \n",
      "0          2015-08-15 14:51:35  KANLAR 3  General Cargo     AMBARLI  \n",
      "...                        ...       ...            ...         ...  \n",
      "720927000  2015-08-01 11:25:33     KATJA  General Cargo     SEVILLA  \n",
      "720927000  2015-08-01 00:43:22     KATJA  General Cargo     SEVILLA  \n",
      "720927000  2015-08-01 12:00:22     KATJA  General Cargo     SEVILLA  \n",
      "720927000  2015-08-01 06:55:13     KATJA  General Cargo     SEVILLA  \n",
      "720927000  2015-08-01 00:25:03     KATJA  General Cargo     SEVILLA  \n",
      "720927000  2015-08-01 04:49:42     KATJA  General Cargo     SEVILLA  \n",
      "720927000  2015-08-01 01:20:12     KATJA  General Cargo     SEVILLA  \n",
      "720927000  2015-08-01 02:03:53     KATJA  General Cargo     SEVILLA  \n",
      "720927000  2015-08-01 14:10:22     KATJA  General Cargo     SEVILLA  \n",
      "720927000  2015-08-01 06:51:12     KATJA  General Cargo     SEVILLA  \n",
      "720927000  2015-08-01 00:00:53     KATJA  General Cargo     SEVILLA  \n",
      "720927000  2015-08-01 00:45:22     KATJA  General Cargo     SEVILLA  \n",
      "720927000  2015-08-01 02:38:22     KATJA  General Cargo     SEVILLA  \n",
      "720927000  2015-08-01 03:27:02     KATJA  General Cargo     SEVILLA  \n",
      "720927000  2015-08-01 02:46:03     KATJA  General Cargo     SEVILLA  \n",
      "720927000  2015-08-01 08:51:23     KATJA  General Cargo     SEVILLA  \n",
      "720927000  2015-08-01 11:46:02     KATJA  General Cargo     SEVILLA  \n",
      "720927000  2015-08-01 13:20:23     KATJA  General Cargo     SEVILLA  \n",
      "720927000  2015-08-01 10:09:02     KATJA  General Cargo     SEVILLA  \n",
      "720927000  2015-08-01 07:39:03     KATJA  General Cargo     SEVILLA  \n",
      "720927000  2015-08-01 04:46:42     KATJA  General Cargo     SEVILLA  \n",
      "720927000  2015-08-01 07:49:13     KATJA  General Cargo     SEVILLA  \n",
      "720927000  2015-08-01 06:00:53     KATJA  General Cargo     SEVILLA  \n",
      "720927000  2015-08-01 00:27:03     KATJA  General Cargo     SEVILLA  \n",
      "720927000  2015-08-01 01:24:12     KATJA  General Cargo     SEVILLA  \n",
      "720927000  2015-08-01 05:45:33     KATJA  General Cargo     SEVILLA  \n",
      "720927000  2015-08-01 07:47:13     KATJA  General Cargo     SEVILLA  \n",
      "720927000  2015-08-01 05:20:02     KATJA  General Cargo     SEVILLA  \n",
      "720927000  2015-08-01 11:05:13     KATJA  General Cargo     SEVILLA  \n",
      "720927000  2015-08-01 07:41:03     KATJA  General Cargo     SEVILLA  \n",
      "\n",
      "[141678 rows x 10 columns]\n"
     ]
    },
    {
     "data": {
      "image/png": "[encoded data removed]",
      "text/plain": [
       "<matplotlib.figure.Figure at 0x1a542c8d080>"
      ]
     },
     "metadata": {},
     "output_type": "display_data"
    }
   ],
   "source": [
    "df = df.sort_index()\n",
    "\n",
    "df=df.groupby(df.index)\n",
    "\n",
    "print(df.head(100))\n",
    "\n",
    "# plot lat against lon to see the anomalous ones\n",
    "plt.figure()\n",
    "plt.scatter(df['lat'].head(1000), df['lon'].head(1000))\n",
    "plt.show()"
   ]
  },
  {
   "cell_type": "code",
   "execution_count": 69,
   "metadata": {
    "collapsed": true
   },
   "outputs": [],
   "source": [
    "# append one more column to df called 'labels'\n",
    "# if speed = 0 and only one record of that id found then this means that the ship is \n",
    "# anchored in a port otherwise if speed = 0 and more records of tha ship's id found in the dataset\n",
    "# then this means that the ship is moored"
   ]
  },
  {
   "cell_type": "code",
   "execution_count": 18,
   "metadata": {
    "collapsed": true
   },
   "outputs": [],
   "source": [
    "# add column navigation\n",
    "# group by same id and plot by groups\n",
    "# then observe which groups have anomalous lat lon comparatevly with other groups sequence of lat lons\n",
    "# this way find anomalous behavior by anomaly detection\n",
    "# label all as anomalous behavior \n",
    "# https://www.marineinsight.com/naval-architecture/different-types-of-manoeuvres-of-a-vessel/\n",
    "# https://www.marineinsight.com/naval-architecture/understanding-different-types-of-manoeuvres-of-a-vessel-2/\n",
    "# http://scikit-learn.sourceforge.net/stable/modules/hmm.html"
   ]
  },
  {
   "cell_type": "code",
   "execution_count": 19,
   "metadata": {
    "collapsed": true
   },
   "outputs": [],
   "source": [
    "# add labels as dead reckoning etc...\n",
    "# When calculating latitude from given (i)time run, (ii)speed and (iii)course with a calculator the formula is given\n",
    "# as Lat=Distance*Cos(Course). In contrast the longitude formula is given as Lo=Dist*Sin(course)/Cos(Lat)\n",
    "\n",
    "# ################# check here formulas for everything --> https://www.movable-type.co.uk/scripts/latlong.html ##################\n",
    "# according to grouped previous positions... since its grouped it's easy to find previous dead recogning or fixed point of\n",
    "# a same vessel and make calculations"
   ]
  },
  {
   "cell_type": "code",
   "execution_count": null,
   "metadata": {
    "collapsed": true
   },
   "outputs": [],
   "source": [
    "# make a linear or some other interpolation over next few hours to kind of predict next points\n",
    "# to do that append new hours to each group\n",
    "# or just calculate next dead reckonings till destination is reached better this to be done\n",
    "# individually in javascript and not here for performance issues due to the fact that reading bigger file is not so preferable\n",
    "# ################# check here formulas for everything --> https://www.movable-type.co.uk/scripts/latlong.html ##################"
   ]
  },
  {
   "cell_type": "code",
   "execution_count": null,
   "metadata": {
    "collapsed": true
   },
   "outputs": [],
   "source": [
    "# robust scaler\n",
    "# https://towardsdatascience.com/all-about-feature-scaling-bcc0ad75cb35\n",
    "# manual feature selection to train the model using those only...\n",
    "# https://medium.com/@categitau/in-one-of-my-previous-posts-i-introduced-machine-learning-and-talked-about-the-two-most-common-c1ac6e18df16\n",
    "# https://scikit-learn.org/stable/modules/tree.html#classification\n",
    "# train a model using destination column as labels\n",
    "# no grouped dataframe ungroup it somehow\n",
    "# save the model we'll use it in javascript again to make predictions..."
   ]
  },
  {
   "cell_type": "code",
   "execution_count": null,
   "metadata": {
    "collapsed": true
   },
   "outputs": [],
   "source": [
    "# then give only the unknown destination ones to predict the ideal destination label as a test here in python to see if it works!"
   ]
  }
 ],
 "metadata": {
  "anaconda-cloud": {},
  "kernelspec": {
   "display_name": "Python [default]",
   "language": "python",
   "name": "python3"
  },
  "language_info": {
   "codemirror_mode": {
    "name": "ipython",
    "version": 3
   },
   "file_extension": ".py",
   "mimetype": "text/x-python",
   "name": "python",
   "nbconvert_exporter": "python",
   "pygments_lexer": "ipython3",
   "version": "3.5.2"
  }
 },
 "nbformat": 4,
 "nbformat_minor": 4
}
