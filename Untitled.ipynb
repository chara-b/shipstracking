{
 "cells": [
  {
   "cell_type": "code",
   "execution_count": 97,
   "metadata": {
    "collapsed": false
   },
   "outputs": [],
   "source": [
    "import matplotlib.pyplot as plt\n",
    "from sklearn import preprocessing\n",
    "import numpy as np\n",
    "import pandas as pd\n",
    "import warnings\n",
    "from scipy import stats\n",
    "from sklearn.feature_selection import RFECV\n",
    "from scipy import interpolate\n",
    "from pandas import DataFrame\n",
    "#import seaborn as sns\n",
    "import sklearn\n",
    "from sklearn.model_selection import train_test_split\n",
    "from sklearn.metrics import classification_report\n",
    "import random\n",
    "from sklearn import metrics\n",
    "from sklearn.feature_selection import RFE\n",
    "from sklearn.linear_model import LogisticRegression\n",
    "from datetime import datetime, timedelta"
   ]
  },
  {
   "cell_type": "code",
   "execution_count": 98,
   "metadata": {
    "collapsed": false
   },
   "outputs": [
    {
     "data": {
      "text/plain": [
       "False"
      ]
     },
     "execution_count": 98,
     "metadata": {},
     "output_type": "execute_result"
    }
   ],
   "source": [
    "col_Names=[\"id\", \"imo\", \"lat\", \"lon\", \"course\", \"heading\", \"speed\", \"timestamp\", \"name\", \"type_name\", \"destination\"]\n",
    "\n",
    "df=pd.read_csv(\"C:/Users/Χαρά/Desktop/generalCargo.csv\", names = col_Names)\n",
    "null_ids = df['id'].isnull().values.any() # check if any id is null\n",
    "null_ids"
   ]
  },
  {
   "cell_type": "code",
   "execution_count": 99,
   "metadata": {
    "collapsed": false
   },
   "outputs": [
    {
     "data": {
      "text/plain": [
       "False"
      ]
     },
     "execution_count": 99,
     "metadata": {},
     "output_type": "execute_result"
    }
   ],
   "source": [
    "null_imo = df['imo'].isnull().values.any() # check if any imo is null\n",
    "null_imo"
   ]
  },
  {
   "cell_type": "code",
   "execution_count": 100,
   "metadata": {
    "collapsed": false
   },
   "outputs": [
    {
     "data": {
      "text/plain": [
       "False"
      ]
     },
     "execution_count": 100,
     "metadata": {},
     "output_type": "execute_result"
    }
   ],
   "source": [
    "null_lat = df['lat'].isnull().values.any() # check if any lat is null\n",
    "null_lat"
   ]
  },
  {
   "cell_type": "code",
   "execution_count": 101,
   "metadata": {
    "collapsed": false
   },
   "outputs": [
    {
     "data": {
      "text/plain": [
       "False"
      ]
     },
     "execution_count": 101,
     "metadata": {},
     "output_type": "execute_result"
    }
   ],
   "source": [
    "null_lon = df['lon'].isnull().values.any() # check if any lon is null\n",
    "null_lon"
   ]
  },
  {
   "cell_type": "code",
   "execution_count": 102,
   "metadata": {
    "collapsed": false
   },
   "outputs": [
    {
     "data": {
      "text/plain": [
       "False"
      ]
     },
     "execution_count": 102,
     "metadata": {},
     "output_type": "execute_result"
    }
   ],
   "source": [
    "null_course = df['course'].isnull().values.any() # check if any course is null\n",
    "null_course"
   ]
  },
  {
   "cell_type": "code",
   "execution_count": 103,
   "metadata": {
    "collapsed": false
   },
   "outputs": [
    {
     "data": {
      "text/plain": [
       "True"
      ]
     },
     "execution_count": 103,
     "metadata": {},
     "output_type": "execute_result"
    }
   ],
   "source": [
    "null_heading = df['heading'].isnull().values.any() # check if any heading is null\n",
    "null_heading # true or false"
   ]
  },
  {
   "cell_type": "code",
   "execution_count": 104,
   "metadata": {
    "collapsed": false
   },
   "outputs": [
    {
     "data": {
      "text/plain": [
       "False"
      ]
     },
     "execution_count": 104,
     "metadata": {},
     "output_type": "execute_result"
    }
   ],
   "source": [
    "null_speed = df['speed'].isnull().values.any() # check if any speed is null\n",
    "null_speed # true or false"
   ]
  },
  {
   "cell_type": "code",
   "execution_count": 105,
   "metadata": {
    "collapsed": false
   },
   "outputs": [
    {
     "data": {
      "text/plain": [
       "False"
      ]
     },
     "execution_count": 105,
     "metadata": {},
     "output_type": "execute_result"
    }
   ],
   "source": [
    "null_timestamp = df['timestamp'].isnull().values.any() # check if any timestamp is null\n",
    "null_timestamp # true or false"
   ]
  },
  {
   "cell_type": "code",
   "execution_count": 106,
   "metadata": {
    "collapsed": false
   },
   "outputs": [
    {
     "data": {
      "text/plain": [
       "False"
      ]
     },
     "execution_count": 106,
     "metadata": {},
     "output_type": "execute_result"
    }
   ],
   "source": [
    "null_name = df['name'].isnull().values.any() # check if any name is null\n",
    "null_name # true or false"
   ]
  },
  {
   "cell_type": "code",
   "execution_count": 107,
   "metadata": {
    "collapsed": false
   },
   "outputs": [
    {
     "data": {
      "text/plain": [
       "False"
      ]
     },
     "execution_count": 107,
     "metadata": {},
     "output_type": "execute_result"
    }
   ],
   "source": [
    "null_type_name = df['type_name'].isnull().values.any() # check if any type_name is null\n",
    "null_type_name # true or false"
   ]
  },
  {
   "cell_type": "code",
   "execution_count": 108,
   "metadata": {
    "collapsed": false
   },
   "outputs": [
    {
     "data": {
      "text/plain": [
       "True"
      ]
     },
     "execution_count": 108,
     "metadata": {},
     "output_type": "execute_result"
    }
   ],
   "source": [
    "null_destination = df['destination'].isnull().values.any() # check if any destination is null\n",
    "null_destination # true or false"
   ]
  },
  {
   "cell_type": "code",
   "execution_count": 109,
   "metadata": {
    "collapsed": false
   },
   "outputs": [],
   "source": [
    "values = {'heading': 'Unknown Heading', 'destination': 'Unknown Destination'}\n",
    "df = df.fillna(value=values) # fill nans of only the heading column's and destination column's"
   ]
  },
  {
   "cell_type": "code",
   "execution_count": 110,
   "metadata": {
    "collapsed": false
   },
   "outputs": [],
   "source": [
    "df.set_index('id', inplace=True)\n"
   ]
  },
  {
   "cell_type": "code",
   "execution_count": 111,
   "metadata": {
    "collapsed": false
   },
   "outputs": [
    {
     "name": "stdout",
     "output_type": "stream",
     "text": [
      "               imo       lat       lon  course heading  speed  \\\n",
      "id                                                              \n",
      "271002264  7520712  39.43900  26.31967     285     290    108   \n",
      "271002090  7407219  40.83602  29.25279     324     511     52   \n",
      "271000192  8913332  40.72005  29.47870     353     511      1   \n",
      "271002090  7407219  40.83594  29.25281     198     511      1   \n",
      "271002108  7514359  37.26139  27.59169     136     511      0   \n",
      "229071000  9631929  40.63510  22.92124     280     511      0   \n",
      "271002090  7407219  40.83590  29.25280     356     511      0   \n",
      "237066700  9034896  39.35017  22.98783      16     511      0   \n",
      "271002264  7520712  39.44598  26.29095     289     291    107   \n",
      "271002090  7407219  40.83595  29.25295      59     511     72   \n",
      "272145000  8918394  41.00356  29.01292     102     511      0   \n",
      "271002090  7407219  40.83601  29.25313      59     511     72   \n",
      "271002214  7364601  40.97026  28.86554       0     511      0   \n",
      "271002384  6924519  40.85332  29.28732       0     511      0   \n",
      "271002090  7407219  40.83580  29.25292      59     511     72   \n",
      "271002090  7407219  40.83609  29.25261     264     511     64   \n",
      "271000192  8913332  40.72004  29.47872     342     511      1   \n",
      "271010167  8883874  40.87215  29.24460       0     511      0   \n",
      "312182000  8862820  40.98050  28.93300     168     511      1   \n",
      "271002090  7407219  40.83600  29.25267     341     511      1   \n",
      "271002108  7514359  37.26165  27.59146     312     511      0   \n",
      "271002090  7407219  40.83578  29.25292     251     511     66   \n",
      "229071000  9631929  40.63512  22.92126     280     511      0   \n",
      "271002090  7407219  40.83601  29.25245     251     511     66   \n",
      "272145000  8918394  41.00352  29.01293     102     511      0   \n",
      "237066700  9034896  39.35017  22.98783     225     511      0   \n",
      "271002090  7407219  40.83585  29.25315     134     511     33   \n",
      "271002384  6924519  40.85339  29.28735       0     511      0   \n",
      "271002090  7407219  40.83570  29.25288     205     511     95   \n",
      "271002214  7364601  40.97026  28.86554       0     511      0   \n",
      "...            ...       ...       ...     ...     ...    ...   \n",
      "271002077  7364390  40.88243  29.20447       0     511      0   \n",
      "271002119  8139302  40.88285  29.20342     172     511      0   \n",
      "271002427  8850657  40.64751  27.56383     314     511      5   \n",
      "256918000  9622760  40.77029  29.72099     354      92      0   \n",
      "229071000  9631929  40.63515  22.92123     182     511      0   \n",
      "271002339  5374638  40.87703  29.21002     342     511      0   \n",
      "271002403  7946681  40.99534  28.95666      95     511      1   \n",
      "237066700  9034896  39.15733  22.85233     230     511      0   \n",
      "271000192  8913332  40.72004  29.47867     258     511      0   \n",
      "271002384  6924519  40.98143  28.91797     311     511      0   \n",
      "312182000  8862820  40.97967  28.93133     324     511      0   \n",
      "271002130  8858776  40.88253  29.20445      36     511      0   \n",
      "271002427  8850657  40.64738  27.56405     298     511      6   \n",
      "256918000  9622760  40.77028  29.72099     245      92      0   \n",
      "271002077  7364390  40.88243  29.20443       0     511      0   \n",
      "271002119  8139302  40.88283  29.20341      90     511      0   \n",
      "229071000  9631929  40.63511  22.92122     182     511      0   \n",
      "271002339  5374638  40.87711  29.21023     165     511      0   \n",
      "271002427  8850657  40.64736  27.56415     285     511      5   \n",
      "271002214  7364601  40.65570  27.66077       0      84      0   \n",
      "271002403  7946681  40.99526  28.95625     305     511      0   \n",
      "237066700  9034896  39.15733  22.85233     245     511      0   \n",
      "271000192  8913332  40.72002  29.47868     269     511      0   \n",
      "312182000  8862820  40.97967  28.93133     335     511      0   \n",
      "271002130  8858776  40.88253  29.20445      36     511      0   \n",
      "271002384  6924519  40.98150  28.91727     294     511      1   \n",
      "271002427  8850657  40.64750  27.56379     308     511      4   \n",
      "256918000  9622760  40.77028  29.72098     274      92      0   \n",
      "271002119  8139302  40.88283  29.20339       0     511      0   \n",
      "271002077  7364390  40.88242  29.20445       0     511      0   \n",
      "\n",
      "                     timestamp            name      type_name  \\\n",
      "id                                                              \n",
      "271002264  2015-08-01 00:01:48         MIRAC 3  General Cargo   \n",
      "271002090  2015-08-01 00:02:12     MEHMET AKIN  General Cargo   \n",
      "271000192  2015-08-01 00:02:23  CAFER KALKAVAN  General Cargo   \n",
      "271002090  2015-08-01 00:04:07     MEHMET AKIN  General Cargo   \n",
      "271002108  2015-08-01 00:04:40      ILYAS ARAZ  General Cargo   \n",
      "229071000  2015-08-01 00:07:17        MUNEVVER  General Cargo   \n",
      "271002090  2015-08-01 00:07:49     MEHMET AKIN  General Cargo   \n",
      "237066700  2015-08-01 00:08:49        IOLKOS I  General Cargo   \n",
      "271002264  2015-08-01 00:09:49         MIRAC 3  General Cargo   \n",
      "271002090  2015-08-01 00:10:50     MEHMET AKIN  General Cargo   \n",
      "272145000  2015-08-01 00:10:57     TATARBUNARY  General Cargo   \n",
      "271002090  2015-08-01 00:14:19     MEHMET AKIN  General Cargo   \n",
      "271002214  2015-08-01 00:14:57           DGN 3  General Cargo   \n",
      "271002384  2015-08-01 00:16:46       MENEKSE 1  General Cargo   \n",
      "271002090  2015-08-01 00:17:21     MEHMET AKIN  General Cargo   \n",
      "271002090  2015-08-01 00:19:19     MEHMET AKIN  General Cargo   \n",
      "271000192  2015-08-01 00:22:21  CAFER KALKAVAN  General Cargo   \n",
      "271010167  2015-08-01 00:22:21          GRANIT  General Cargo   \n",
      "312182000  2015-08-01 00:23:20           ARIES  General Cargo   \n",
      "271002090  2015-08-01 00:23:52     MEHMET AKIN  General Cargo   \n",
      "271002108  2015-08-01 00:25:40      ILYAS ARAZ  General Cargo   \n",
      "271002090  2015-08-01 00:27:48     MEHMET AKIN  General Cargo   \n",
      "229071000  2015-08-01 00:28:18        MUNEVVER  General Cargo   \n",
      "271002090  2015-08-01 00:30:50     MEHMET AKIN  General Cargo   \n",
      "272145000  2015-08-01 00:31:59     TATARBUNARY  General Cargo   \n",
      "237066700  2015-08-01 00:32:50        IOLKOS I  General Cargo   \n",
      "271002090  2015-08-01 00:34:18     MEHMET AKIN  General Cargo   \n",
      "271002384  2015-08-01 00:37:47       MENEKSE 1  General Cargo   \n",
      "271002090  2015-08-01 00:37:48     MEHMET AKIN  General Cargo   \n",
      "271002214  2015-08-01 00:38:48           DGN 3  General Cargo   \n",
      "...                        ...             ...            ...   \n",
      "271002077  2015-08-23 01:57:15       KUMDASG 2  General Cargo   \n",
      "271002119  2015-08-23 01:59:11      KAAN SONAY  General Cargo   \n",
      "271002427  2015-08-23 01:59:44        NEHIR ES  General Cargo   \n",
      "256918000  2015-08-23 02:00:10         YM FUJI  General Cargo   \n",
      "229071000  2015-08-23 02:00:37        MUNEVVER  General Cargo   \n",
      "271002339  2015-08-23 02:01:47  KAPTAN IBRAHIM  General Cargo   \n",
      "271002403  2015-08-23 02:05:13           AYDER  General Cargo   \n",
      "237066700  2015-08-23 02:06:30        IOLKOS I  General Cargo   \n",
      "271000192  2015-08-23 02:06:49  CAFER KALKAVAN  General Cargo   \n",
      "271002384  2015-08-23 02:10:54       MENEKSE 1  General Cargo   \n",
      "312182000  2015-08-23 02:12:39           ARIES  General Cargo   \n",
      "271002130  2015-08-23 02:13:38         KUMDASG  General Cargo   \n",
      "271002427  2015-08-23 02:17:46        NEHIR ES  General Cargo   \n",
      "256918000  2015-08-23 02:20:32         YM FUJI  General Cargo   \n",
      "271002077  2015-08-23 02:21:04       KUMDASG 2  General Cargo   \n",
      "271002119  2015-08-23 02:21:15      KAAN SONAY  General Cargo   \n",
      "229071000  2015-08-23 02:21:37        MUNEVVER  General Cargo   \n",
      "271002339  2015-08-23 02:25:47  KAPTAN IBRAHIM  General Cargo   \n",
      "271002427  2015-08-23 02:26:45        NEHIR ES  General Cargo   \n",
      "271002214  2015-08-23 02:27:44           DGN 3  General Cargo   \n",
      "271002403  2015-08-23 02:29:13           AYDER  General Cargo   \n",
      "237066700  2015-08-23 02:30:30        IOLKOS I  General Cargo   \n",
      "271000192  2015-08-23 02:30:46  CAFER KALKAVAN  General Cargo   \n",
      "312182000  2015-08-23 02:33:27           ARIES  General Cargo   \n",
      "271002130  2015-08-23 02:34:29         KUMDASG  General Cargo   \n",
      "271002384  2015-08-23 02:37:54       MENEKSE 1  General Cargo   \n",
      "271002427  2015-08-23 02:38:44        NEHIR ES  General Cargo   \n",
      "256918000  2015-08-23 02:41:10         YM FUJI  General Cargo   \n",
      "271002119  2015-08-23 02:42:15      KAAN SONAY  General Cargo   \n",
      "271002077  2015-08-23 02:43:15       KUMDASG 2  General Cargo   \n",
      "\n",
      "                   destination  \n",
      "id                              \n",
      "271002264  Unknown Destination  \n",
      "271002090  Unknown Destination  \n",
      "271000192  Unknown Destination  \n",
      "271002090  Unknown Destination  \n",
      "271002108  Unknown Destination  \n",
      "229071000  Unknown Destination  \n",
      "271002090  Unknown Destination  \n",
      "237066700  Unknown Destination  \n",
      "271002264  Unknown Destination  \n",
      "271002090  Unknown Destination  \n",
      "272145000  Unknown Destination  \n",
      "271002090  Unknown Destination  \n",
      "271002214  Unknown Destination  \n",
      "271002384  Unknown Destination  \n",
      "271002090  Unknown Destination  \n",
      "271002090  Unknown Destination  \n",
      "271000192  Unknown Destination  \n",
      "271010167  Unknown Destination  \n",
      "312182000  Unknown Destination  \n",
      "271002090  Unknown Destination  \n",
      "271002108  Unknown Destination  \n",
      "271002090  Unknown Destination  \n",
      "229071000  Unknown Destination  \n",
      "271002090  Unknown Destination  \n",
      "272145000  Unknown Destination  \n",
      "237066700  Unknown Destination  \n",
      "271002090  Unknown Destination  \n",
      "271002384  Unknown Destination  \n",
      "271002090  Unknown Destination  \n",
      "271002214  Unknown Destination  \n",
      "...                        ...  \n",
      "271002077  Unknown Destination  \n",
      "271002119  Unknown Destination  \n",
      "271002427  Unknown Destination  \n",
      "256918000  Unknown Destination  \n",
      "229071000  Unknown Destination  \n",
      "271002339  Unknown Destination  \n",
      "271002403  Unknown Destination  \n",
      "237066700  Unknown Destination  \n",
      "271000192  Unknown Destination  \n",
      "271002384  Unknown Destination  \n",
      "312182000  Unknown Destination  \n",
      "271002130  Unknown Destination  \n",
      "271002427  Unknown Destination  \n",
      "256918000  Unknown Destination  \n",
      "271002077  Unknown Destination  \n",
      "271002119  Unknown Destination  \n",
      "229071000  Unknown Destination  \n",
      "271002339  Unknown Destination  \n",
      "271002427  Unknown Destination  \n",
      "271002214  Unknown Destination  \n",
      "271002403  Unknown Destination  \n",
      "237066700  Unknown Destination  \n",
      "271000192  Unknown Destination  \n",
      "312182000  Unknown Destination  \n",
      "271002130  Unknown Destination  \n",
      "271002384  Unknown Destination  \n",
      "271002427  Unknown Destination  \n",
      "256918000  Unknown Destination  \n",
      "271002119  Unknown Destination  \n",
      "271002077  Unknown Destination  \n",
      "\n",
      "[41302 rows x 10 columns]\n"
     ]
    }
   ],
   "source": [
    "print(df.loc[df['destination'] == 'Unknown Destination'])"
   ]
  },
  {
   "cell_type": "code",
   "execution_count": 92,
   "metadata": {
    "collapsed": false
   },
   "outputs": [],
   "source": [
    "# check for duplicates...\n",
    "# print(df[df.duplicated()].sort_index())"
   ]
  },
  {
   "cell_type": "code",
   "execution_count": null,
   "metadata": {
    "collapsed": true
   },
   "outputs": [],
   "source": [
    "# take all unknown destination out of the dataset for a while\n"
   ]
  },
  {
   "cell_type": "code",
   "execution_count": null,
   "metadata": {
    "collapsed": true
   },
   "outputs": [],
   "source": [
    "# add column navigation\n",
    "# group by same id\n",
    "# then observe which groups have anomalous lat lon comparatevly with other groups sequence of lat lons\n",
    "# this way find anomalous behavior by anomaly detection\n",
    "# label all as anomalous behavior "
   ]
  },
  {
   "cell_type": "code",
   "execution_count": null,
   "metadata": {
    "collapsed": true
   },
   "outputs": [],
   "source": [
    "# add labels as dead reckoning etc...\n",
    "# according to grouped previous positions... since its grouped it's easy to find previous dead recogning or fixed point of\n",
    "# a same vessel and make calculations"
   ]
  },
  {
   "cell_type": "code",
   "execution_count": null,
   "metadata": {
    "collapsed": true
   },
   "outputs": [],
   "source": [
    "# make a linear or some other interpolation over next few hours to kind of predict next points\n",
    "# to do that append new hours to each group\n",
    "# or just calculate next dead reckonings till destination is reached"
   ]
  },
  {
   "cell_type": "code",
   "execution_count": null,
   "metadata": {
    "collapsed": true
   },
   "outputs": [],
   "source": []
  }
 ],
 "metadata": {
  "anaconda-cloud": {},
  "kernelspec": {
   "display_name": "Python [default]",
   "language": "python",
   "name": "python3"
  },
  "language_info": {
   "codemirror_mode": {
    "name": "ipython",
    "version": 3
   },
   "file_extension": ".py",
   "mimetype": "text/x-python",
   "name": "python",
   "nbconvert_exporter": "python",
   "pygments_lexer": "ipython3",
   "version": "3.5.2"
  }
 },
 "nbformat": 4,
 "nbformat_minor": 4
}
